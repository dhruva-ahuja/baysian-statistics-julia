{
 "cells": [
  {
   "cell_type": "code",
   "execution_count": 2,
   "id": "a43a4e1f",
   "metadata": {},
   "outputs": [
    {
     "data": {
      "text/html": [
       "<div><div style = \"float: left;\"><span>5×7 DataFrame</span></div><div style = \"clear: both;\"></div></div><div class = \"data-frame\" style = \"overflow-x: scroll;\"><table class = \"data-frame\" style = \"margin-bottom: 6px;\"><thead><tr class = \"header\"><th class = \"rowNumber\" style = \"font-weight: bold; text-align: right;\">Row</th><th style = \"text-align: left;\">ID</th><th style = \"text-align: left;\">Age</th><th style = \"text-align: left;\">OME</th><th style = \"text-align: left;\">Loud</th><th style = \"text-align: left;\">Noise</th><th style = \"text-align: left;\">Correct</th><th style = \"text-align: left;\">Trials</th></tr><tr class = \"subheader headerLastRow\"><th class = \"rowNumber\" style = \"font-weight: bold; text-align: right;\"></th><th title = \"Int32\" style = \"text-align: left;\">Int32</th><th title = \"Int32\" style = \"text-align: left;\">Int32</th><th title = \"CategoricalArrays.CategoricalValue{String, UInt8}\" style = \"text-align: left;\">Cat…</th><th title = \"Int32\" style = \"text-align: left;\">Int32</th><th title = \"CategoricalArrays.CategoricalValue{String, UInt8}\" style = \"text-align: left;\">Cat…</th><th title = \"Int32\" style = \"text-align: left;\">Int32</th><th title = \"Int32\" style = \"text-align: left;\">Int32</th></tr></thead><tbody><tr><td class = \"rowNumber\" style = \"font-weight: bold; text-align: right;\">1</td><td style = \"text-align: right;\">1</td><td style = \"text-align: right;\">30</td><td style = \"text-align: left;\">low</td><td style = \"text-align: right;\">35</td><td style = \"text-align: left;\">coherent</td><td style = \"text-align: right;\">1</td><td style = \"text-align: right;\">4</td></tr><tr><td class = \"rowNumber\" style = \"font-weight: bold; text-align: right;\">2</td><td style = \"text-align: right;\">1</td><td style = \"text-align: right;\">30</td><td style = \"text-align: left;\">low</td><td style = \"text-align: right;\">35</td><td style = \"text-align: left;\">incoherent</td><td style = \"text-align: right;\">4</td><td style = \"text-align: right;\">5</td></tr><tr><td class = \"rowNumber\" style = \"font-weight: bold; text-align: right;\">3</td><td style = \"text-align: right;\">1</td><td style = \"text-align: right;\">30</td><td style = \"text-align: left;\">low</td><td style = \"text-align: right;\">40</td><td style = \"text-align: left;\">coherent</td><td style = \"text-align: right;\">0</td><td style = \"text-align: right;\">3</td></tr><tr><td class = \"rowNumber\" style = \"font-weight: bold; text-align: right;\">4</td><td style = \"text-align: right;\">1</td><td style = \"text-align: right;\">30</td><td style = \"text-align: left;\">low</td><td style = \"text-align: right;\">40</td><td style = \"text-align: left;\">incoherent</td><td style = \"text-align: right;\">1</td><td style = \"text-align: right;\">1</td></tr><tr><td class = \"rowNumber\" style = \"font-weight: bold; text-align: right;\">5</td><td style = \"text-align: right;\">1</td><td style = \"text-align: right;\">30</td><td style = \"text-align: left;\">low</td><td style = \"text-align: right;\">45</td><td style = \"text-align: left;\">coherent</td><td style = \"text-align: right;\">2</td><td style = \"text-align: right;\">4</td></tr></tbody></table></div>"
      ],
      "text/latex": [
       "\\begin{tabular}{r|ccccccc}\n",
       "\t& ID & Age & OME & Loud & Noise & Correct & Trials\\\\\n",
       "\t\\hline\n",
       "\t& Int32 & Int32 & Cat… & Int32 & Cat… & Int32 & Int32\\\\\n",
       "\t\\hline\n",
       "\t1 & 1 & 30 & low & 35 & coherent & 1 & 4 \\\\\n",
       "\t2 & 1 & 30 & low & 35 & incoherent & 4 & 5 \\\\\n",
       "\t3 & 1 & 30 & low & 40 & coherent & 0 & 3 \\\\\n",
       "\t4 & 1 & 30 & low & 40 & incoherent & 1 & 1 \\\\\n",
       "\t5 & 1 & 30 & low & 45 & coherent & 2 & 4 \\\\\n",
       "\\end{tabular}\n"
      ],
      "text/plain": [
       "\u001b[1m5×7 DataFrame\u001b[0m\n",
       "\u001b[1m Row \u001b[0m│\u001b[1m ID    \u001b[0m\u001b[1m Age   \u001b[0m\u001b[1m OME  \u001b[0m\u001b[1m Loud  \u001b[0m\u001b[1m Noise      \u001b[0m\u001b[1m Correct \u001b[0m\u001b[1m Trials \u001b[0m\n",
       "     │\u001b[90m Int32 \u001b[0m\u001b[90m Int32 \u001b[0m\u001b[90m Cat… \u001b[0m\u001b[90m Int32 \u001b[0m\u001b[90m Cat…       \u001b[0m\u001b[90m Int32   \u001b[0m\u001b[90m Int32  \u001b[0m\n",
       "─────┼────────────────────────────────────────────────────────\n",
       "   1 │     1     30  low      35  coherent          1       4\n",
       "   2 │     1     30  low      35  incoherent        4       5\n",
       "   3 │     1     30  low      40  coherent          0       3\n",
       "   4 │     1     30  low      40  incoherent        1       1\n",
       "   5 │     1     30  low      45  coherent          2       4"
      ]
     },
     "execution_count": 2,
     "metadata": {},
     "output_type": "execute_result"
    }
   ],
   "source": [
    "import RDatasets: dataset\n",
    "\n",
    "ome_dataset = dataset(\"MASS\", \"OME\")\n",
    "ome_dataset = filter(row -> row.OME != \"N/A\", ome_dataset)\n",
    "first(ome_dataset, 5)"
   ]
  },
  {
   "cell_type": "code",
   "execution_count": 3,
   "id": "2e1d7705",
   "metadata": {},
   "outputs": [
    {
     "data": {
      "text/html": [
       "<div><div style = \"float: left;\"><span>5×10 DataFrame</span></div><div style = \"clear: both;\"></div></div><div class = \"data-frame\" style = \"overflow-x: scroll;\"><table class = \"data-frame\" style = \"margin-bottom: 6px;\"><thead><tr class = \"header\"><th class = \"rowNumber\" style = \"font-weight: bold; text-align: right;\">Row</th><th style = \"text-align: left;\">ID</th><th style = \"text-align: left;\">Age</th><th style = \"text-align: left;\">OME</th><th style = \"text-align: left;\">Loud</th><th style = \"text-align: left;\">Noise</th><th style = \"text-align: left;\">Correct</th><th style = \"text-align: left;\">Trials</th><th style = \"text-align: left;\">Prob</th><th style = \"text-align: left;\">OMElow</th><th style = \"text-align: left;\">NoiseCoherent</th></tr><tr class = \"subheader headerLastRow\"><th class = \"rowNumber\" style = \"font-weight: bold; text-align: right;\"></th><th title = \"Int32\" style = \"text-align: left;\">Int32</th><th title = \"Int32\" style = \"text-align: left;\">Int32</th><th title = \"CategoricalArrays.CategoricalValue{String, UInt8}\" style = \"text-align: left;\">Cat…</th><th title = \"Int32\" style = \"text-align: left;\">Int32</th><th title = \"CategoricalArrays.CategoricalValue{String, UInt8}\" style = \"text-align: left;\">Cat…</th><th title = \"Int32\" style = \"text-align: left;\">Int32</th><th title = \"Int32\" style = \"text-align: left;\">Int32</th><th title = \"Float64\" style = \"text-align: left;\">Float64</th><th title = \"Int64\" style = \"text-align: left;\">Int64</th><th title = \"Int64\" style = \"text-align: left;\">Int64</th></tr></thead><tbody><tr><td class = \"rowNumber\" style = \"font-weight: bold; text-align: right;\">1</td><td style = \"text-align: right;\">1</td><td style = \"text-align: right;\">30</td><td style = \"text-align: left;\">low</td><td style = \"text-align: right;\">35</td><td style = \"text-align: left;\">coherent</td><td style = \"text-align: right;\">1</td><td style = \"text-align: right;\">4</td><td style = \"text-align: right;\">0.25</td><td style = \"text-align: right;\">1</td><td style = \"text-align: right;\">1</td></tr><tr><td class = \"rowNumber\" style = \"font-weight: bold; text-align: right;\">2</td><td style = \"text-align: right;\">1</td><td style = \"text-align: right;\">30</td><td style = \"text-align: left;\">low</td><td style = \"text-align: right;\">35</td><td style = \"text-align: left;\">incoherent</td><td style = \"text-align: right;\">4</td><td style = \"text-align: right;\">5</td><td style = \"text-align: right;\">0.8</td><td style = \"text-align: right;\">1</td><td style = \"text-align: right;\">0</td></tr><tr><td class = \"rowNumber\" style = \"font-weight: bold; text-align: right;\">3</td><td style = \"text-align: right;\">1</td><td style = \"text-align: right;\">30</td><td style = \"text-align: left;\">low</td><td style = \"text-align: right;\">40</td><td style = \"text-align: left;\">coherent</td><td style = \"text-align: right;\">0</td><td style = \"text-align: right;\">3</td><td style = \"text-align: right;\">0.0</td><td style = \"text-align: right;\">1</td><td style = \"text-align: right;\">1</td></tr><tr><td class = \"rowNumber\" style = \"font-weight: bold; text-align: right;\">4</td><td style = \"text-align: right;\">1</td><td style = \"text-align: right;\">30</td><td style = \"text-align: left;\">low</td><td style = \"text-align: right;\">40</td><td style = \"text-align: left;\">incoherent</td><td style = \"text-align: right;\">1</td><td style = \"text-align: right;\">1</td><td style = \"text-align: right;\">1.0</td><td style = \"text-align: right;\">1</td><td style = \"text-align: right;\">0</td></tr><tr><td class = \"rowNumber\" style = \"font-weight: bold; text-align: right;\">5</td><td style = \"text-align: right;\">1</td><td style = \"text-align: right;\">30</td><td style = \"text-align: left;\">low</td><td style = \"text-align: right;\">45</td><td style = \"text-align: left;\">coherent</td><td style = \"text-align: right;\">2</td><td style = \"text-align: right;\">4</td><td style = \"text-align: right;\">0.5</td><td style = \"text-align: right;\">1</td><td style = \"text-align: right;\">1</td></tr></tbody></table></div>"
      ],
      "text/latex": [
       "\\begin{tabular}{r|cccccccccc}\n",
       "\t& ID & Age & OME & Loud & Noise & Correct & Trials & Prob & OMElow & NoiseCoherent\\\\\n",
       "\t\\hline\n",
       "\t& Int32 & Int32 & Cat… & Int32 & Cat… & Int32 & Int32 & Float64 & Int64 & Int64\\\\\n",
       "\t\\hline\n",
       "\t1 & 1 & 30 & low & 35 & coherent & 1 & 4 & 0.25 & 1 & 1 \\\\\n",
       "\t2 & 1 & 30 & low & 35 & incoherent & 4 & 5 & 0.8 & 1 & 0 \\\\\n",
       "\t3 & 1 & 30 & low & 40 & coherent & 0 & 3 & 0.0 & 1 & 1 \\\\\n",
       "\t4 & 1 & 30 & low & 40 & incoherent & 1 & 1 & 1.0 & 1 & 0 \\\\\n",
       "\t5 & 1 & 30 & low & 45 & coherent & 2 & 4 & 0.5 & 1 & 1 \\\\\n",
       "\\end{tabular}\n"
      ],
      "text/plain": [
       "\u001b[1m5×10 DataFrame\u001b[0m\n",
       "\u001b[1m Row \u001b[0m│\u001b[1m ID    \u001b[0m\u001b[1m Age   \u001b[0m\u001b[1m OME  \u001b[0m\u001b[1m Loud  \u001b[0m\u001b[1m Noise      \u001b[0m\u001b[1m Correct \u001b[0m\u001b[1m Trials \u001b[0m\u001b[1m Prob    \u001b[0m\u001b[1m OMElow\u001b[0m ⋯\n",
       "     │\u001b[90m Int32 \u001b[0m\u001b[90m Int32 \u001b[0m\u001b[90m Cat… \u001b[0m\u001b[90m Int32 \u001b[0m\u001b[90m Cat…       \u001b[0m\u001b[90m Int32   \u001b[0m\u001b[90m Int32  \u001b[0m\u001b[90m Float64 \u001b[0m\u001b[90m Int64 \u001b[0m ⋯\n",
       "─────┼──────────────────────────────────────────────────────────────────────────\n",
       "   1 │     1     30  low      35  coherent          1       4     0.25       1 ⋯\n",
       "   2 │     1     30  low      35  incoherent        4       5     0.8        1\n",
       "   3 │     1     30  low      40  coherent          0       3     0.0        1\n",
       "   4 │     1     30  low      40  incoherent        1       1     1.0        1\n",
       "   5 │     1     30  low      45  coherent          2       4     0.5        1 ⋯\n",
       "\u001b[36m                                                                1 column omitted\u001b[0m"
      ]
     },
     "execution_count": 3,
     "metadata": {},
     "output_type": "execute_result"
    }
   ],
   "source": [
    "dat = copy(ome_dataset)\n",
    "dat.Prob = dat.Correct ./ dat.Trials\n",
    "dat.OMElow = ifelse.(dat.OME .== \"low\", 1, 0)\n",
    "dat.NoiseCoherent = ifelse.(dat.Noise .== \"coherent\", 1, 0)\n",
    "first(dat, 5)"
   ]
  },
  {
   "cell_type": "code",
   "execution_count": 4,
   "id": "f5030ca3",
   "metadata": {},
   "outputs": [
    {
     "data": {
      "text/plain": [
       "StatsModels.TableRegressionModel{GeneralizedLinearModel{GLM.GlmResp{Vector{Float64}, Binomial{Float64}, LogitLink}, GLM.DensePredChol{Float64, LinearAlgebra.CholeskyPivoted{Float64, Matrix{Float64}, Vector{Int64}}}}, Matrix{Float64}}\n",
       "\n",
       "Prob ~ 1 + Age + OMElow + Loud + NoiseCoherent\n",
       "\n",
       "Coefficients:\n",
       "──────────────────────────────────────────────────────────────────────────────\n",
       "                   Coef.  Std. Error       z  Pr(>|z|)  Lower 95%    Upper 95%\n",
       "──────────────────────────────────────────────────────────────────────────────\n",
       "(Intercept)    -5.71813   0.416159    -13.74    <1e-42  -6.53379   -4.90248\n",
       "Age             0.018896  0.00376638    5.02    <1e-06   0.011514   0.026278\n",
       "OMElow         -0.23715   0.123228     -1.92    0.0543  -0.478672   0.00437225\n",
       "Loud            0.171682  0.00887631   19.34    <1e-82   0.154284   0.189079\n",
       "NoiseCoherent  -1.5763    0.1152      -13.68    <1e-41  -1.80209   -1.35052\n",
       "──────────────────────────────────────────────────────────────────────────────"
      ]
     },
     "execution_count": 4,
     "metadata": {},
     "output_type": "execute_result"
    }
   ],
   "source": [
    "using GLM, DataFrames\n",
    "\n",
    "model = glm(@formula(Prob ~ Age + OMElow + Loud + NoiseCoherent), dat, Binomial(), LogitLink(), wts=dat.Trials)"
   ]
  },
  {
   "cell_type": "code",
   "execution_count": 5,
   "id": "a8ab201d",
   "metadata": {},
   "outputs": [
    {
     "data": {
      "text/plain": [
       "1-element Vector{Union{Missing, Float64}}:\n",
       " 0.9843301191352406"
      ]
     },
     "execution_count": 5,
     "metadata": {},
     "output_type": "execute_result"
    }
   ],
   "source": [
    "# Assuming model is already defined and trained\n",
    "# Example: model = glm(@formula(Y ~ age + OMElow + Loud + NoiseCoherent), data, Normal(), IdentityLink())\n",
    "\n",
    "new_data = DataFrame(Age = [60], OMElow = [0], Loud = [60], NoiseCoherent = [1])\n",
    "predict(model, new_data)\n"
   ]
  },
  {
   "cell_type": "code",
   "execution_count": 6,
   "id": "db59b398",
   "metadata": {},
   "outputs": [
    {
     "data": {
      "text/plain": [
       "63-element Vector{Int64}:\n",
       "  1\n",
       "  2\n",
       "  3\n",
       "  4\n",
       "  5\n",
       "  6\n",
       "  7\n",
       "  8\n",
       "  9\n",
       " 10\n",
       " 11\n",
       " 12\n",
       " 13\n",
       "  ⋮\n",
       " 52\n",
       " 53\n",
       " 54\n",
       " 55\n",
       " 56\n",
       " 57\n",
       " 58\n",
       " 59\n",
       " 60\n",
       " 61\n",
       " 62\n",
       " 63"
      ]
     },
     "execution_count": 6,
     "metadata": {},
     "output_type": "execute_result"
    }
   ],
   "source": [
    "import CategoricalArrays: categorical, levelcode\n",
    "\n",
    "dc = copy(dat)\n",
    "dc.ID = categorical(dc.ID)  # creates dense categorical# dense integer labels starting from 1\n",
    "\n",
    "\n",
    "unique(levelcode.(dc.ID))  # integer labels starting from 1"
   ]
  },
  {
   "cell_type": "code",
   "execution_count": 7,
   "id": "26e9fbd2",
   "metadata": {},
   "outputs": [
    {
     "data": {
      "text/plain": [
       "DynamicPPL.Model{typeof(prob_regression), (:X, :y), (), (), Tuple{DataFrame, Vector{Int32}}, Tuple{}, DynamicPPL.DefaultContext}(Main.prob_regression, (X = \u001b[1m712×9 DataFrame\u001b[0m\n",
       "\u001b[1m Row \u001b[0m│\u001b[1m ID   \u001b[0m\u001b[1m Age   \u001b[0m\u001b[1m OME  \u001b[0m\u001b[1m Loud  \u001b[0m\u001b[1m Noise      \u001b[0m\u001b[1m Trials \u001b[0m\u001b[1m OMElow \u001b[0m\u001b[1m NoiseCoherent \u001b[0m\u001b[1m le\u001b[0m ⋯\n",
       "     │\u001b[90m Cat… \u001b[0m\u001b[90m Int32 \u001b[0m\u001b[90m Cat… \u001b[0m\u001b[90m Int32 \u001b[0m\u001b[90m Cat…       \u001b[0m\u001b[90m Int32  \u001b[0m\u001b[90m Int64  \u001b[0m\u001b[90m Int64         \u001b[0m\u001b[90m In\u001b[0m ⋯\n",
       "─────┼──────────────────────────────────────────────────────────────────────────\n",
       "   1 │ 1        30  low      35  coherent         4       1              1     ⋯\n",
       "   2 │ 1        30  low      35  incoherent       5       1              0\n",
       "   3 │ 1        30  low      40  coherent         3       1              1\n",
       "   4 │ 1        30  low      40  incoherent       1       1              0\n",
       "   5 │ 1        30  low      45  coherent         4       1              1     ⋯\n",
       "   6 │ 1        30  low      45  incoherent       2       1              0\n",
       "   7 │ 1        30  low      50  coherent         3       1              1\n",
       "   8 │ 1        30  low      50  incoherent       4       1              0\n",
       "   9 │ 1        30  low      55  coherent         3       1              1     ⋯\n",
       "  10 │ 1        30  low      55  incoherent       2       1              0\n",
       "  11 │ 1        60  low      35  coherent         4       1              1\n",
       "  ⋮  │  ⋮      ⋮     ⋮      ⋮        ⋮         ⋮       ⋮           ⋮           ⋱\n",
       " 703 │ 95       30  low      35  coherent         5       1              1\n",
       " 704 │ 95       30  low      35  incoherent       4       1              0     ⋯\n",
       " 705 │ 95       30  low      40  coherent         3       1              1\n",
       " 706 │ 95       30  low      40  incoherent       4       1              0\n",
       " 707 │ 95       30  low      45  coherent         6       1              1\n",
       " 708 │ 95       30  low      45  incoherent       3       1              0     ⋯\n",
       " 709 │ 95       30  low      50  coherent         5       1              1\n",
       " 710 │ 95       30  low      50  incoherent       1       1              0\n",
       " 711 │ 95       30  low      55  coherent         5       1              1\n",
       " 712 │ 95       30  low      55  incoherent       2       1              0     ⋯\n",
       "\u001b[36m                                                   1 column and 691 rows omitted\u001b[0m, y = Int32[1, 4, 0, 1, 2, 2, 3, 4, 3, 2  …  2, 3, 0, 3, 1, 3, 5, 1, 5, 2]), NamedTuple(), DynamicPPL.DefaultContext())"
      ]
     },
     "execution_count": 7,
     "metadata": {},
     "output_type": "execute_result"
    }
   ],
   "source": [
    "import LinearAlgebra: dot\n",
    "import Turing: @model, sample, NUTS, Gibbs\n",
    "import DistributionsAD: filldist\n",
    "\n",
    "using Distributions\n",
    "import StatsFuns: logistic\n",
    "\n",
    "@model function prob_regression(X, y)\n",
    "    μ ~ Normal(0, 10)\n",
    "    τ² ~ InverseGamma(0.5, 0.5)\n",
    "\n",
    "    a ~ filldist(Normal(μ, sqrt(τ²)), size(unique(X.ID), 1))\n",
    "    b ~ filldist(Normal(0, 4), 4)\n",
    "\n",
    "    ϕ = logistic.(a[X.level] .+ b[1] * X.Age .+ b[2] * X.OMElow .+ b[3] * X.Loud .+ b[4] * X.NoiseCoherent)\n",
    "\n",
    "    for i in eachindex(y)\n",
    "        y[i] ~ Binomial(X[i, :Trials], ϕ[i])\n",
    "    end\n",
    "end\n",
    "\n",
    "dat.ID = categorical(dat.ID)\n",
    "dat.level = levelcode.(dat.ID)\n",
    "\n",
    "t_model = prob_regression(dat[!, Not(:Prob, :Correct)], dat.Correct)"
   ]
  },
  {
   "cell_type": "code",
   "execution_count": 8,
   "id": "48a1b0a8",
   "metadata": {},
   "outputs": [
    {
     "name": "stderr",
     "output_type": "stream",
     "text": [
      "\u001b[36m\u001b[1m┌ \u001b[22m\u001b[39m\u001b[36m\u001b[1mInfo: \u001b[22m\u001b[39mFound initial step size\n",
      "\u001b[36m\u001b[1m└ \u001b[22m\u001b[39m  ϵ = 0.00625\n",
      "\u001b[32mSampling: 100%|█████████████████████████████████████████| Time: 0:06:00\u001b[39m\n"
     ]
    },
    {
     "data": {
      "text/plain": [
       "Chains MCMC chain (10000×83×1 Array{Float64, 3}):\n",
       "\n",
       "Iterations        = 1001:1:11000\n",
       "Number of chains  = 1\n",
       "Samples per chain = 10000\n",
       "Wall duration     = 378.96 seconds\n",
       "Compute duration  = 378.96 seconds\n",
       "parameters        = μ, τ², a[1], a[2], a[3], a[4], a[5], a[6], a[7], a[8], a[9], a[10], a[11], a[12], a[13], a[14], a[15], a[16], a[17], a[18], a[19], a[20], a[21], a[22], a[23], a[24], a[25], a[26], a[27], a[28], a[29], a[30], a[31], a[32], a[33], a[34], a[35], a[36], a[37], a[38], a[39], a[40], a[41], a[42], a[43], a[44], a[45], a[46], a[47], a[48], a[49], a[50], a[51], a[52], a[53], a[54], a[55], a[56], a[57], a[58], a[59], a[60], a[61], a[62], a[63], b[1], b[2], b[3], b[4]\n",
       "internals         = n_steps, is_accept, acceptance_rate, log_density, hamiltonian_energy, hamiltonian_energy_error, max_hamiltonian_energy_error, tree_depth, numerical_error, step_size, nom_step_size, lp, logprior, loglikelihood\n",
       "\n",
       "Use `describe(chains)` for summary statistics and quantiles.\n"
      ]
     },
     "execution_count": 8,
     "metadata": {},
     "output_type": "execute_result"
    }
   ],
   "source": [
    "chains = sample(t_model, NUTS(), 10000)"
   ]
  },
  {
   "cell_type": "code",
   "execution_count": 9,
   "id": "01b43a60",
   "metadata": {},
   "outputs": [
    {
     "name": "stdout",
     "output_type": "stream",
     "text": [
      "Chains MCMC chain (10000×83×1 Array{Float64, 3}):\n",
      "\n",
      "Iterations        = 1001:1:11000\n",
      "Number of chains  = 1\n",
      "Samples per chain = 10000\n",
      "Wall duration     = 378.96 seconds\n",
      "Compute duration  = 378.96 seconds\n",
      "parameters        = μ, τ², a[1], a[2], a[3], a[4], a[5], a[6], a[7], a[8], a[9], a[10], a[11], a[12], a[13], a[14], a[15], a[16], a[17], a[18], a[19], a[20], a[21], a[22], a[23], a[24], a[25], a[26], a[27], a[28], a[29], a[30], a[31], a[32], a[33], a[34], a[35], a[36], a[37], a[38], a[39], a[40], a[41], a[42], a[43], a[44], a[45], a[46], a[47], a[48], a[49], a[50], a[51], a[52], a[53], a[54], a[55], a[56], a[57], a[58], a[59], a[60], a[61], a[62], a[63], b[1], b[2], b[3], b[4]\n",
      "internals         = n_steps, is_accept, acceptance_rate, log_density, hamiltonian_energy, hamiltonian_energy_error, max_hamiltonian_energy_error, tree_depth, numerical_error, step_size, nom_step_size, lp, logprior, loglikelihood\n",
      "\n",
      "Summary Statistics\n",
      " \u001b[1m parameters \u001b[0m \u001b[1m    mean \u001b[0m \u001b[1m     std \u001b[0m \u001b[1m    mcse \u001b[0m \u001b[1m ess_bulk \u001b[0m \u001b[1m ess_tail \u001b[0m \u001b[1m    rhat \u001b[0m \u001b[1m ess_per_sec \u001b[0m\n",
      " \u001b[90m     Symbol \u001b[0m \u001b[90m Float64 \u001b[0m \u001b[90m Float64 \u001b[0m \u001b[90m Float64 \u001b[0m \u001b[90m  Float64 \u001b[0m \u001b[90m  Float64 \u001b[0m \u001b[90m Float64 \u001b[0m \u001b[90m     Float64 \u001b[0m\n",
      "\n",
      "           μ    0.0857    0.0002    0.0001    23.3277    29.0159    1.2484        0.0616\n",
      "          τ²    0.1679    0.0001    0.0000    21.3657    26.5129    1.5713        0.0564\n",
      "        a[1]    0.0336    0.0003    0.0001    21.3031    30.6555    2.0313        0.0562\n",
      "        a[2]   -0.4963    0.0003    0.0001    21.4930    32.5985    1.8532        0.0567\n",
      "        a[3]    0.3189    0.0003    0.0001    21.4100    31.1022    1.7556        0.0565\n",
      "        a[4]   -0.0670    0.0002    0.0000    23.6306    52.3478    1.0550        0.0624\n",
      "        a[5]    0.0231    0.0002    0.0000    25.3054    37.4586    1.0970        0.0668\n",
      "        a[6]    0.0813    0.0002    0.0001    22.0852    37.9401    1.3332        0.0583\n",
      "        a[7]    0.0514    0.0004    0.0001    20.9105    29.4227    2.0022        0.0552\n",
      "        a[8]    0.0293    0.0002    0.0001    21.6992    26.8125    1.4972        0.0573\n",
      "        a[9]   -0.0456    0.0003    0.0001    21.1915    28.5893    1.7017        0.0559\n",
      "       a[10]   -0.0243    0.0003    0.0001    23.2820    44.7131    1.2004        0.0614\n",
      "       a[11]    0.4503    0.0001    0.0000    25.1042    41.0913    1.1099        0.0662\n",
      "       a[12]   -0.2271    0.0002    0.0000    22.8089    43.7535    1.3482        0.0602\n",
      "       a[13]   -0.1158    0.0004    0.0001    20.9326    26.9536    2.1193        0.0552\n",
      "       a[14]    0.3616    0.0004    0.0001    22.0511    28.2337    1.4915        0.0582\n",
      "       a[15]   -0.3000    0.0004    0.0001    21.4904    53.5762    1.6108        0.0567\n",
      "       a[16]   -0.1290    0.0003    0.0001    20.8360    27.3632    1.9536        0.0550\n",
      "       a[17]   -0.2041    0.0002    0.0000    23.3139    31.0676    1.2252        0.0615\n",
      "       a[18]   -0.0746    0.0003    0.0001    22.3197    35.2619    1.4079        0.0589\n",
      "       a[19]   -0.0342    0.0002    0.0000    24.5938    40.7926    1.0085        0.0649\n",
      "       a[20]    0.1396    0.0003    0.0001    22.0893    28.0257    1.1987        0.0583\n",
      "       a[21]   -0.0732    0.0003    0.0001    21.4636    29.5058    1.6226        0.0566\n",
      "       a[22]    0.0436    0.0003    0.0001    21.5392    29.8500    1.5728        0.0568\n",
      "       a[23]   -0.6635    0.0002    0.0000    24.5089    36.5721    1.0369        0.0647\n",
      "       a[24]   -0.4535    0.0003    0.0001    21.3543    32.2067    2.0705        0.0563\n",
      "       a[25]    0.0129    0.0001    0.0000    24.3451    33.7497    1.0404        0.0642\n",
      "       a[26]   -0.4735    0.0003    0.0001    23.2458    48.1687    1.0528        0.0613\n",
      "       a[27]   -0.0891    0.0002    0.0000    22.8350    39.6444    1.1007        0.0603\n",
      "       a[28]    0.1043    0.0002    0.0000    22.9097    27.0447    1.3464        0.0605\n",
      "       a[29]    0.2762    0.0004    0.0001    21.4476    37.1697    1.5249        0.0566\n",
      "       a[30]    0.2066    0.0003    0.0001    21.0543    36.8896    1.5724        0.0556\n",
      "       a[31]    0.2717    0.0004    0.0001    21.1370    29.2521    1.7929        0.0558\n",
      "       a[32]    0.1533    0.0002    0.0000    24.0023    40.9218    1.0834        0.0633\n",
      "       a[33]   -0.5283    0.0002    0.0000    24.1257    30.5425    1.1279        0.0637\n",
      "       a[34]   -0.3799    0.0003    0.0001    21.0718    27.8578    1.6160        0.0556\n",
      "       a[35]    0.0504    0.0003    0.0001    21.9658    26.2303    1.2637        0.0580\n",
      "       a[36]    0.6395    0.0003    0.0001    24.1163    34.7566    1.1511        0.0636\n",
      "       a[37]    0.5948    0.0002    0.0000    22.4864    38.4716    1.2573        0.0593\n",
      "       a[38]    0.1184    0.0003    0.0001    22.1652    27.9351    1.2349        0.0585\n",
      "       a[39]    0.3642    0.0002    0.0001    21.8582    57.2514    1.8138        0.0577\n",
      "       a[40]    0.1186    0.0004    0.0001    21.3630    26.6134    1.5798        0.0564\n",
      "       a[41]    0.2180    0.0003    0.0001    22.5532    52.6839    1.1957        0.0595\n",
      "       a[42]   -0.0779    0.0003    0.0001    23.1442    40.2207    1.1582        0.0611\n",
      "       a[43]   -0.3609    0.0002    0.0000    23.8984    38.2699    1.1246        0.0631\n",
      "       a[44]    0.0634    0.0002    0.0000    23.8552    36.1416    1.0872        0.0629\n",
      "       a[45]   -0.3341    0.0004    0.0001    21.2937    33.4625    2.1065        0.0562\n",
      "       a[46]    0.0526    0.0002    0.0000    22.1665    28.8210    1.4520        0.0585\n",
      "       a[47]    0.0888    0.0003    0.0001    22.0345    25.9055    1.0935        0.0581\n",
      "       a[48]    0.4306    0.0004    0.0001    21.0001    33.4580    2.0517        0.0554\n",
      "       a[49]    0.5635    0.0002    0.0000    22.9686    27.7842    1.1689        0.0606\n",
      "       a[50]    0.7141    0.0003    0.0001    22.9419    54.2096    1.1885        0.0605\n",
      "       a[51]    0.2556    0.0002    0.0000    22.5716    28.9269    1.3385        0.0596\n",
      "       a[52]    0.0033    0.0002    0.0000    23.9621    57.2084    1.0451        0.0632\n",
      "       a[53]    0.5948    0.0002    0.0000    23.1698    27.7340    1.0935        0.0611\n",
      "       a[54]    0.3350    0.0005    0.0001    20.9104    29.8131    2.0635        0.0552\n",
      "       a[55]   -0.1042    0.0002    0.0000    24.9795    41.4382    1.2326        0.0659\n",
      "       a[56]    0.2425    0.0001    0.0000    25.3956    40.2411    1.0691        0.0670\n",
      "       a[57]   -0.0286    0.0001    0.0000    23.8404    35.0616    1.5002        0.0629\n",
      "       a[58]    0.2937    0.0003    0.0001    21.1760    36.4315    1.8382        0.0559\n",
      "       a[59]   -0.3171    0.0002    0.0000    25.0755    52.3999    1.0047        0.0662\n",
      "       a[60]   -0.0329    0.0003    0.0001    23.1843    32.0067    1.1125        0.0612\n",
      "       a[61]   -0.8382    0.0004    0.0001    22.1993    31.8093    1.2228        0.0586\n",
      "       a[62]   -0.0772    0.0003    0.0001    21.3912    38.4055    2.0580        0.0564\n",
      "       a[63]    0.3447    0.0002    0.0000    22.5129    35.8939    1.5265        0.0594\n",
      "        b[1]    3.1938    0.0016    0.0004    20.6664    26.0200    2.1227        0.0545\n",
      "        b[2]   -6.1310    0.0004    0.0001    21.0598    25.9037    2.0870        0.0556\n",
      "        b[3]   -4.6730    0.0028    0.0006    20.6657    26.0709    2.1227        0.0545\n",
      "        b[4]    8.3455    0.0004    0.0001    21.2547    39.8734    2.1057        0.0561\n",
      "\n",
      "Quantiles\n",
      " \u001b[1m parameters \u001b[0m \u001b[1m    2.5% \u001b[0m \u001b[1m   25.0% \u001b[0m \u001b[1m   50.0% \u001b[0m \u001b[1m   75.0% \u001b[0m \u001b[1m   97.5% \u001b[0m\n",
      " \u001b[90m     Symbol \u001b[0m \u001b[90m Float64 \u001b[0m \u001b[90m Float64 \u001b[0m \u001b[90m Float64 \u001b[0m \u001b[90m Float64 \u001b[0m \u001b[90m Float64 \u001b[0m\n",
      "\n",
      "           μ    0.0854    0.0855    0.0856    0.0858    0.0862\n",
      "          τ²    0.1678    0.1679    0.1679    0.1680    0.1681\n",
      "        a[1]    0.0328    0.0334    0.0337    0.0338    0.0341\n",
      "        a[2]   -0.4968   -0.4965   -0.4962   -0.4960   -0.4959\n",
      "        a[3]    0.3184    0.3188    0.3190    0.3191    0.3194\n",
      "        a[4]   -0.0673   -0.0671   -0.0670   -0.0669   -0.0667\n",
      "        a[5]    0.0228    0.0230    0.0231    0.0232    0.0234\n",
      "        a[6]    0.0809    0.0811    0.0813    0.0815    0.0818\n",
      "        a[7]    0.0508    0.0511    0.0513    0.0517    0.0520\n",
      "        a[8]    0.0289    0.0292    0.0293    0.0295    0.0299\n",
      "        a[9]   -0.0462   -0.0457   -0.0456   -0.0454   -0.0450\n",
      "       a[10]   -0.0248   -0.0245   -0.0243   -0.0241   -0.0238\n",
      "       a[11]    0.4501    0.4503    0.4503    0.4505    0.4506\n",
      "       a[12]   -0.2275   -0.2272   -0.2271   -0.2269   -0.2268\n",
      "       a[13]   -0.1164   -0.1161   -0.1159   -0.1155   -0.1151\n",
      "       a[14]    0.3609    0.3614    0.3615    0.3617    0.3625\n",
      "       a[15]   -0.3008   -0.3002   -0.2999   -0.2997   -0.2994\n",
      "       a[16]   -0.1296   -0.1293   -0.1290   -0.1288   -0.1283\n",
      "       a[17]   -0.2047   -0.2043   -0.2041   -0.2039   -0.2038\n",
      "       a[18]   -0.0750   -0.0748   -0.0747   -0.0744   -0.0740\n",
      "       a[19]   -0.0345   -0.0344   -0.0342   -0.0341   -0.0338\n",
      "       a[20]    0.1392    0.1394    0.1396    0.1397    0.1402\n",
      "       a[21]   -0.0737   -0.0734   -0.0732   -0.0729   -0.0727\n",
      "       a[22]    0.0430    0.0435    0.0437    0.0438    0.0441\n",
      "       a[23]   -0.6639   -0.6637   -0.6635   -0.6634   -0.6632\n",
      "       a[24]   -0.4540   -0.4538   -0.4536   -0.4533   -0.4531\n",
      "       a[25]    0.0126    0.0128    0.0130    0.0131    0.0132\n",
      "       a[26]   -0.4740   -0.4738   -0.4736   -0.4732   -0.4730\n",
      "       a[27]   -0.0895   -0.0893   -0.0891   -0.0890   -0.0887\n",
      "       a[28]    0.1040    0.1042    0.1043    0.1045    0.1048\n",
      "       a[29]    0.2753    0.2760    0.2763    0.2765    0.2768\n",
      "       a[30]    0.2061    0.2064    0.2066    0.2069    0.2072\n",
      "       a[31]    0.2709    0.2715    0.2718    0.2720    0.2723\n",
      "       a[32]    0.1530    0.1532    0.1533    0.1535    0.1537\n",
      "       a[33]   -0.5286   -0.5284   -0.5283   -0.5283   -0.5279\n",
      "       a[34]   -0.3805   -0.3801   -0.3800   -0.3796   -0.3793\n",
      "       a[35]    0.0497    0.0502    0.0504    0.0507    0.0509\n",
      "       a[36]    0.6391    0.6393    0.6394    0.6396    0.6401\n",
      "       a[37]    0.5944    0.5946    0.5948    0.5950    0.5952\n",
      "       a[38]    0.1177    0.1182    0.1183    0.1185    0.1188\n",
      "       a[39]    0.3638    0.3640    0.3642    0.3643    0.3646\n",
      "       a[40]    0.1178    0.1184    0.1185    0.1188    0.1194\n",
      "       a[41]    0.2176    0.2178    0.2181    0.2183    0.2185\n",
      "       a[42]   -0.0785   -0.0781   -0.0779   -0.0778   -0.0774\n",
      "       a[43]   -0.3613   -0.3610   -0.3608   -0.3607   -0.3606\n",
      "       a[44]    0.0629    0.0632    0.0634    0.0635    0.0637\n",
      "       a[45]   -0.3347   -0.3344   -0.3341   -0.3338   -0.3336\n",
      "       a[46]    0.0523    0.0525    0.0527    0.0528    0.0530\n",
      "       a[47]    0.0881    0.0887    0.0888    0.0890    0.0894\n",
      "       a[48]    0.4299    0.4303    0.4307    0.4309    0.4314\n",
      "       a[49]    0.5631    0.5634    0.5635    0.5637    0.5640\n",
      "       a[50]    0.7136    0.7140    0.7142    0.7143    0.7144\n",
      "       a[51]    0.2552    0.2555    0.2557    0.2558    0.2560\n",
      "       a[52]    0.0030    0.0031    0.0033    0.0035    0.0038\n",
      "       a[53]    0.5944    0.5947    0.5948    0.5950    0.5952\n",
      "       a[54]    0.3343    0.3347    0.3349    0.3355    0.3358\n",
      "       a[55]   -0.1045   -0.1043   -0.1042   -0.1041   -0.1039\n",
      "       a[56]    0.2422    0.2424    0.2425    0.2426    0.2427\n",
      "       a[57]   -0.0289   -0.0287   -0.0286   -0.0285   -0.0283\n",
      "       a[58]    0.2932    0.2934    0.2938    0.2940    0.2944\n",
      "       a[59]   -0.3175   -0.3172   -0.3171   -0.3170   -0.3168\n",
      "       a[60]   -0.0335   -0.0331   -0.0329   -0.0327   -0.0325\n",
      "       a[61]   -0.8387   -0.8385   -0.8383   -0.8382   -0.8372\n",
      "       a[62]   -0.0776   -0.0775   -0.0772   -0.0770   -0.0768\n",
      "       a[63]    0.3444    0.3446    0.3447    0.3449    0.3452\n",
      "        b[1]    3.1910    3.1924    3.1938    3.1951    3.1965\n",
      "        b[2]   -6.1318   -6.1312   -6.1310   -6.1308   -6.1304\n",
      "        b[3]   -4.6778   -4.6753   -4.6731   -4.6706   -4.6683\n",
      "        b[4]    8.3450    8.3452    8.3454    8.3459    8.3462\n"
     ]
    }
   ],
   "source": [
    "describe(chains)"
   ]
  },
  {
   "cell_type": "code",
   "execution_count": null,
   "id": "3b37fa9f",
   "metadata": {},
   "outputs": [],
   "source": [
    "import AxisArrays: axisvalues\n",
    "\n",
    "axisvalues(chains.value)[2] |> collect |> print"
   ]
  },
  {
   "cell_type": "code",
   "execution_count": 130,
   "id": "e4163b78",
   "metadata": {},
   "outputs": [
    {
     "data": {
      "text/plain": [
       "(69,)"
      ]
     },
     "execution_count": 130,
     "metadata": {},
     "output_type": "execute_result"
    }
   ],
   "source": [
    "model_vars = [:μ, :τ², Symbol(\"a[1]\"), Symbol(\"a[2]\"), Symbol(\"a[3]\"), Symbol(\"a[4]\"), Symbol(\"a[5]\"), Symbol(\"a[6]\"), Symbol(\"a[7]\"), Symbol(\"a[8]\"), Symbol(\"a[9]\"), Symbol(\"a[10]\"), Symbol(\"a[11]\"), Symbol(\"a[12]\"), Symbol(\"a[13]\"), Symbol(\"a[14]\"), Symbol(\"a[15]\"), Symbol(\"a[16]\"), Symbol(\"a[17]\"), Symbol(\"a[18]\"), Symbol(\"a[19]\"), Symbol(\"a[20]\"), Symbol(\"a[21]\"), Symbol(\"a[22]\"), Symbol(\"a[23]\"), Symbol(\"a[24]\"), Symbol(\"a[25]\"), Symbol(\"a[26]\"), Symbol(\"a[27]\"), Symbol(\"a[28]\"), Symbol(\"a[29]\"), Symbol(\"a[30]\"), Symbol(\"a[31]\"), Symbol(\"a[32]\"), Symbol(\"a[33]\"), Symbol(\"a[34]\"), Symbol(\"a[35]\"), Symbol(\"a[36]\"), Symbol(\"a[37]\"), Symbol(\"a[38]\"), Symbol(\"a[39]\"), Symbol(\"a[40]\"), Symbol(\"a[41]\"), Symbol(\"a[42]\"), Symbol(\"a[43]\"), Symbol(\"a[44]\"), Symbol(\"a[45]\"), Symbol(\"a[46]\"), Symbol(\"a[47]\"), Symbol(\"a[48]\"), Symbol(\"a[49]\"), Symbol(\"a[50]\"), Symbol(\"a[51]\"), Symbol(\"a[52]\"), Symbol(\"a[53]\"), Symbol(\"a[54]\"), Symbol(\"a[55]\"), Symbol(\"a[56]\"), Symbol(\"a[57]\"), Symbol(\"a[58]\"), Symbol(\"a[59]\"), Symbol(\"a[60]\"), Symbol(\"a[61]\"), Symbol(\"a[62]\"), Symbol(\"a[63]\"), Symbol(\"b[1]\"), Symbol(\"b[2]\"), Symbol(\"b[3]\"), Symbol(\"b[4]\")]\n",
    "\n",
    "size(model_vars)"
   ]
  },
  {
   "cell_type": "code",
   "execution_count": 131,
   "id": "667ab9b4",
   "metadata": {},
   "outputs": [
    {
     "data": {
      "text/plain": [
       "Chains MCMC chain (10000×83×1 Array{Float64, 3}):\n",
       "\n",
       "Iterations        = 1001:1:11000\n",
       "Number of chains  = 1\n",
       "Samples per chain = 10000\n",
       "Wall duration     = 142.71 seconds\n",
       "Compute duration  = 142.71 seconds\n",
       "parameters        = μ, τ², a[1], a[2], a[3], a[4], a[5], a[6], a[7], a[8], a[9], a[10], a[11], a[12], a[13], a[14], a[15], a[16], a[17], a[18], a[19], a[20], a[21], a[22], a[23], a[24], a[25], a[26], a[27], a[28], a[29], a[30], a[31], a[32], a[33], a[34], a[35], a[36], a[37], a[38], a[39], a[40], a[41], a[42], a[43], a[44], a[45], a[46], a[47], a[48], a[49], a[50], a[51], a[52], a[53], a[54], a[55], a[56], a[57], a[58], a[59], a[60], a[61], a[62], a[63], b[1], b[2], b[3], b[4]\n",
       "internals         = n_steps, is_accept, acceptance_rate, log_density, hamiltonian_energy, hamiltonian_energy_error, max_hamiltonian_energy_error, tree_depth, numerical_error, step_size, nom_step_size, lp, logprior, loglikelihood\n",
       "\n",
       "Use `describe(chains)` for summary statistics and quantiles.\n"
      ]
     },
     "execution_count": 131,
     "metadata": {},
     "output_type": "execute_result"
    }
   ],
   "source": [
    "chains"
   ]
  },
  {
   "cell_type": "code",
   "execution_count": 145,
   "id": "fe2fdbe6",
   "metadata": {},
   "outputs": [
    {
     "data": {
      "text/plain": [
       "1-dimensional AxisArray{Float64,1,...} with axes:\n",
       "    :var, [:μ, :τ², Symbol(\"a[1]\"), Symbol(\"a[2]\"), Symbol(\"a[3]\"), Symbol(\"a[4]\"), Symbol(\"a[5]\"), Symbol(\"a[6]\"), Symbol(\"a[7]\"), Symbol(\"a[8]\")  …  :hamiltonian_energy, :hamiltonian_energy_error, :max_hamiltonian_energy_error, :tree_depth, :numerical_error, :step_size, :nom_step_size, :lp, :logprior, :loglikelihood]\n",
       "And data, a 83-element Vector{Float64}:\n",
       "       3.3006340344066274\n",
       "       0.8247767831837268\n",
       "       4.916700883312494\n",
       "       2.632120016057998\n",
       "       3.7750716213826534\n",
       "       3.0977799071192313\n",
       "       2.5328069833711457\n",
       "       3.862486702393878\n",
       "       2.449254643831275\n",
       "       2.9088595350625153\n",
       "       5.203344020133028\n",
       "       3.3030710543437856\n",
       "       2.0691528121078226\n",
       "       ⋮\n",
       "       0.49750779855774985\n",
       " -260333.0804115341\n",
       "  260377.5781362109\n",
       "       0.004996866453438997\n",
       "      Inf\n",
       "       1.0\n",
       "       1.0\n",
       "       0.00182441151036913\n",
       "       0.00182441151036913\n",
       " -260332.887769039\n",
       "    -105.17408530784857\n",
       " -260227.71368373116"
      ]
     },
     "execution_count": 145,
     "metadata": {},
     "output_type": "execute_result"
    }
   ],
   "source": [
    "chains.value[:, :, 1][1, :]"
   ]
  },
  {
   "cell_type": "code",
   "execution_count": 167,
   "id": "26cad83d",
   "metadata": {},
   "outputs": [
    {
     "data": {
      "text/plain": [
       "2-dimensional AxisArray{Float64,2,...} with axes:\n",
       "    :iter, 1:1:1\n",
       "    :var, [:μ, :τ², Symbol(\"a[1]\"), Symbol(\"a[2]\"), Symbol(\"a[3]\"), Symbol(\"a[4]\"), Symbol(\"a[5]\"), Symbol(\"a[6]\"), Symbol(\"a[7]\"), Symbol(\"a[8]\")  …  Symbol(\"a[58]\"), Symbol(\"a[59]\"), Symbol(\"a[60]\"), Symbol(\"a[61]\"), Symbol(\"a[62]\"), Symbol(\"a[63]\"), Symbol(\"b[1]\"), Symbol(\"b[2]\"), Symbol(\"b[3]\"), Symbol(\"b[4]\")]\n",
       "And data, a 1×69 Matrix{Float64}:\n",
       " 3.30062  0.825145  4.91675  2.63185  3.77514  …  -1.28495  5.05817  2.57116"
      ]
     },
     "execution_count": 167,
     "metadata": {},
     "output_type": "execute_result"
    }
   ],
   "source": [
    "samples = chains.value[:, model_vars, 1]\n",
    "p = samples[1, :]\n",
    "a = p[ [Symbol(\"a[$i]\") for i in 1:63]]\n",
    "\n",
    "a[dat.level]\n",
    "\n",
    "mean_params = mean(samples, dims=1)"
   ]
  },
  {
   "cell_type": "code",
   "execution_count": 168,
   "id": "7e9cf636",
   "metadata": {},
   "outputs": [
    {
     "data": {
      "text/plain": [
       "(519907.1791354293, 0.013566617912147194)"
      ]
     },
     "execution_count": 168,
     "metadata": {},
     "output_type": "execute_result"
    }
   ],
   "source": [
    "import Statistics: mean\n",
    "\n",
    "function compute_DIC(dat, chains, log_likelihood, parameter_names)\n",
    "    # Extract samples for the parameters\n",
    "    samples = chains.value[:, parameter_names, 1]\n",
    "    n_samples = size(samples, 1)\n",
    "\n",
    "    # Compute deviance for each sample\n",
    "    deviances = [-2 * log_likelihood(dat, samples[i, :]) for i in 1:n_samples]\n",
    "    mean_deviance = mean(deviances)\n",
    "\n",
    "    # Compute deviance at the mean of the parameters\n",
    "    mean_params = mean(samples, dims=1)[1, :]\n",
    "    deviance_at_mean = -2 * log_likelihood(dat, mean_params)\n",
    "\n",
    "    # Compute DIC\n",
    "    DIC = 2 * mean_deviance - deviance_at_mean\n",
    "    return DIC, mean_deviance - deviance_at_mean\n",
    "end\n",
    "\n",
    "log_likelihood(dat, params) = begin\n",
    "    b1, b2, b3, b4 = params[ [Symbol(\"b[$i]\") for i in 1:4] ]\n",
    "    a = params[ [Symbol(\"a[$i]\") for i in 1:63] ]\n",
    "    ϕ = logistic.(a[dat.level] .+ b1 .* dat.Age .+ b2 .* dat.OMElow .+ b3 .* dat.Loud .+ b4 .* dat.NoiseCoherent)\n",
    "    sum(logpdf.(Binomial.(dat.Trials, ϕ), dat.Correct))\n",
    "end\n",
    "\n",
    "compute_DIC(dat, chains, log_likelihood, model_vars)\n",
    "\n"
   ]
  },
  {
   "cell_type": "code",
   "execution_count": 123,
   "id": "2e888580",
   "metadata": {},
   "outputs": [
    {
     "data": {
      "text/plain": [
       "69-element Vector{Symbol}:\n",
       " :μ\n",
       " :τ²\n",
       " Symbol(\"a[1]\")\n",
       " Symbol(\"a[2]\")\n",
       " Symbol(\"a[3]\")\n",
       " Symbol(\"a[4]\")\n",
       " Symbol(\"a[5]\")\n",
       " Symbol(\"a[6]\")\n",
       " Symbol(\"a[7]\")\n",
       " Symbol(\"a[8]\")\n",
       " Symbol(\"a[9]\")\n",
       " Symbol(\"a[10]\")\n",
       " Symbol(\"a[11]\")\n",
       " ⋮\n",
       " Symbol(\"a[56]\")\n",
       " Symbol(\"a[57]\")\n",
       " Symbol(\"a[58]\")\n",
       " Symbol(\"a[59]\")\n",
       " Symbol(\"a[60]\")\n",
       " Symbol(\"a[61]\")\n",
       " Symbol(\"a[62]\")\n",
       " Symbol(\"a[63]\")\n",
       " Symbol(\"b[1]\")\n",
       " Symbol(\"b[2]\")\n",
       " Symbol(\"b[3]\")\n",
       " Symbol(\"b[4]\")"
      ]
     },
     "execution_count": 123,
     "metadata": {},
     "output_type": "execute_result"
    }
   ],
   "source": [
    "model_vars"
   ]
  },
  {
   "cell_type": "code",
   "execution_count": 121,
   "id": "e031981a",
   "metadata": {},
   "outputs": [
    {
     "data": {
      "text/plain": [
       "63-element Vector{Symbol}:\n",
       " Symbol(\"a[10]\")\n",
       " Symbol(\"a[11]\")\n",
       " Symbol(\"a[12]\")\n",
       " Symbol(\"a[13]\")\n",
       " Symbol(\"a[14]\")\n",
       " Symbol(\"a[15]\")\n",
       " Symbol(\"a[16]\")\n",
       " Symbol(\"a[17]\")\n",
       " Symbol(\"a[18]\")\n",
       " Symbol(\"a[19]\")\n",
       " Symbol(\"a[1]\")\n",
       " Symbol(\"a[20]\")\n",
       " Symbol(\"a[21]\")\n",
       " ⋮\n",
       " Symbol(\"a[57]\")\n",
       " Symbol(\"a[58]\")\n",
       " Symbol(\"a[59]\")\n",
       " Symbol(\"a[5]\")\n",
       " Symbol(\"a[60]\")\n",
       " Symbol(\"a[61]\")\n",
       " Symbol(\"a[62]\")\n",
       " Symbol(\"a[63]\")\n",
       " Symbol(\"a[6]\")\n",
       " Symbol(\"a[7]\")\n",
       " Symbol(\"a[8]\")\n",
       " Symbol(\"a[9]\")"
      ]
     },
     "execution_count": 121,
     "metadata": {},
     "output_type": "execute_result"
    }
   ],
   "source": [
    "# how to pack variables in julia, explain me with this example [1, 3, 4, 5]\n",
    "tau, mu, b4, b3, b2, b1, a... = sort(model_vars, rev=true)\n",
    "\n",
    "sort!(a)"
   ]
  },
  {
   "cell_type": "code",
   "execution_count": 114,
   "id": "610c55d4",
   "metadata": {},
   "outputs": [
    {
     "data": {
      "text/plain": [
       "2-element Vector{Int64}:\n",
       " 4\n",
       " 5"
      ]
     },
     "execution_count": 114,
     "metadata": {},
     "output_type": "execute_result"
    }
   ],
   "source": [
    "c"
   ]
  },
  {
   "cell_type": "code",
   "execution_count": 110,
   "id": "77887b3f",
   "metadata": {},
   "outputs": [
    {
     "data": {
      "text/plain": [
       "69-element Vector{Symbol}:\n",
       " :μ\n",
       " :τ²\n",
       " Symbol(\"a[1]\")\n",
       " Symbol(\"a[2]\")\n",
       " Symbol(\"a[3]\")\n",
       " Symbol(\"a[4]\")\n",
       " Symbol(\"a[5]\")\n",
       " Symbol(\"a[6]\")\n",
       " Symbol(\"a[7]\")\n",
       " Symbol(\"a[8]\")\n",
       " Symbol(\"a[9]\")\n",
       " Symbol(\"a[10]\")\n",
       " Symbol(\"a[11]\")\n",
       " ⋮\n",
       " Symbol(\"a[56]\")\n",
       " Symbol(\"a[57]\")\n",
       " Symbol(\"a[58]\")\n",
       " Symbol(\"a[59]\")\n",
       " Symbol(\"a[60]\")\n",
       " Symbol(\"a[61]\")\n",
       " Symbol(\"a[62]\")\n",
       " Symbol(\"a[63]\")\n",
       " Symbol(\"b[1]\")\n",
       " Symbol(\"b[2]\")\n",
       " Symbol(\"b[3]\")\n",
       " Symbol(\"b[4]\")"
      ]
     },
     "execution_count": 110,
     "metadata": {},
     "output_type": "execute_result"
    }
   ],
   "source": [
    "model_vars"
   ]
  }
 ],
 "metadata": {
  "kernelspec": {
   "display_name": "Julia 1.11.6",
   "language": "julia",
   "name": "julia-1.11"
  },
  "language_info": {
   "file_extension": ".jl",
   "mimetype": "application/julia",
   "name": "julia",
   "version": "1.11.6"
  }
 },
 "nbformat": 4,
 "nbformat_minor": 5
}

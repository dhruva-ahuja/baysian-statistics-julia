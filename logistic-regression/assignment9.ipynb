{
 "cells": [
  {
   "cell_type": "code",
   "execution_count": 88,
   "id": "eaff88c9",
   "metadata": {},
   "outputs": [
    {
     "data": {
      "text/html": [
       "<div><div style = \"float: left;\"><span>8×2 DataFrame</span></div><div style = \"clear: both;\"></div></div><div class = \"data-frame\" style = \"overflow-x: scroll;\"><table class = \"data-frame\" style = \"margin-bottom: 6px;\"><thead><tr class = \"header\"><th class = \"rowNumber\" style = \"font-weight: bold; text-align: right;\">Row</th><th style = \"text-align: left;\">x</th><th style = \"text-align: left;\">y</th></tr><tr class = \"subheader headerLastRow\"><th class = \"rowNumber\" style = \"font-weight: bold; text-align: right;\"></th><th title = \"Int64\" style = \"text-align: left;\">Int64</th><th title = \"Int64\" style = \"text-align: left;\">Int64</th></tr></thead><tbody><tr><td class = \"rowNumber\" style = \"font-weight: bold; text-align: right;\">1</td><td style = \"text-align: right;\">1</td><td style = \"text-align: right;\">1</td></tr><tr><td class = \"rowNumber\" style = \"font-weight: bold; text-align: right;\">2</td><td style = \"text-align: right;\">2</td><td style = \"text-align: right;\">1</td></tr><tr><td class = \"rowNumber\" style = \"font-weight: bold; text-align: right;\">3</td><td style = \"text-align: right;\">3</td><td style = \"text-align: right;\">1</td></tr><tr><td class = \"rowNumber\" style = \"font-weight: bold; text-align: right;\">4</td><td style = \"text-align: right;\">4</td><td style = \"text-align: right;\">1</td></tr><tr><td class = \"rowNumber\" style = \"font-weight: bold; text-align: right;\">5</td><td style = \"text-align: right;\">5</td><td style = \"text-align: right;\">0</td></tr><tr><td class = \"rowNumber\" style = \"font-weight: bold; text-align: right;\">6</td><td style = \"text-align: right;\">6</td><td style = \"text-align: right;\">0</td></tr><tr><td class = \"rowNumber\" style = \"font-weight: bold; text-align: right;\">7</td><td style = \"text-align: right;\">7</td><td style = \"text-align: right;\">0</td></tr><tr><td class = \"rowNumber\" style = \"font-weight: bold; text-align: right;\">8</td><td style = \"text-align: right;\">8</td><td style = \"text-align: right;\">0</td></tr></tbody></table></div>"
      ],
      "text/latex": [
       "\\begin{tabular}{r|cc}\n",
       "\t& x & y\\\\\n",
       "\t\\hline\n",
       "\t& Int64 & Int64\\\\\n",
       "\t\\hline\n",
       "\t1 & 1 & 1 \\\\\n",
       "\t2 & 2 & 1 \\\\\n",
       "\t3 & 3 & 1 \\\\\n",
       "\t4 & 4 & 1 \\\\\n",
       "\t5 & 5 & 0 \\\\\n",
       "\t6 & 6 & 0 \\\\\n",
       "\t7 & 7 & 0 \\\\\n",
       "\t8 & 8 & 0 \\\\\n",
       "\\end{tabular}\n"
      ],
      "text/plain": [
       "\u001b[1m8×2 DataFrame\u001b[0m\n",
       "\u001b[1m Row \u001b[0m│\u001b[1m x     \u001b[0m\u001b[1m y     \u001b[0m\n",
       "     │\u001b[90m Int64 \u001b[0m\u001b[90m Int64 \u001b[0m\n",
       "─────┼──────────────\n",
       "   1 │     1      1\n",
       "   2 │     2      1\n",
       "   3 │     3      1\n",
       "   4 │     4      1\n",
       "   5 │     5      0\n",
       "   6 │     6      0\n",
       "   7 │     7      0\n",
       "   8 │     8      0"
      ]
     },
     "metadata": {},
     "output_type": "display_data"
    }
   ],
   "source": [
    "using DataFrames\n",
    "\n",
    "df = DataFrame(\n",
    "    x = [1, 2, 3, 4, 5, 6, 7, 8],\n",
    "    y = [1, 1, 1, 1, 0, 0, 0, 0]\n",
    ")"
   ]
  },
  {
   "cell_type": "code",
   "execution_count": 2,
   "id": "429c9446",
   "metadata": {},
   "outputs": [
    {
     "name": "stdout",
     "output_type": "stream",
     "text": [
      "StatsModels.TableRegressionModel{GeneralizedLinearModel{GLM.GlmResp{Vector{Float64}, Binomial{Float64}, LogitLink}, GLM.DensePredChol{Float64, LinearAlgebra.CholeskyPivoted{Float64, Matrix{Float64}, Vector{Int64}}}}, Matrix{Float64}}\n",
      "\n",
      "y ~ 1 + x\n",
      "\n",
      "Coefficients:\n",
      "────────────────────────────────────────────────────────────────────────\n",
      "                Coef.  Std. Error      z  Pr(>|z|)  Lower 95%  Upper 95%\n",
      "────────────────────────────────────────────────────────────────────────\n",
      "(Intercept)  143.123     11026.5    0.01    0.9896  -21468.4    21754.6\n",
      "x            -31.8051     2435.34  -0.01    0.9896   -4804.99    4741.38\n",
      "────────────────────────────────────────────────────────────────────────"
     ]
    }
   ],
   "source": [
    "using GLM\n",
    "\n",
    "model = glm(@formula(y ~ x), df, Binomial(), LogitLink())\n",
    "print(model)"
   ]
  },
  {
   "cell_type": "code",
   "execution_count": 10,
   "id": "d0ae28dc",
   "metadata": {},
   "outputs": [
    {
     "ename": "UndefVarError",
     "evalue": "UndefVarError: `dat` not defined in `Main`\nSuggestion: check for spelling errors or missing imports.",
     "output_type": "error",
     "traceback": [
      "UndefVarError: `dat` not defined in `Main`\n",
      "Suggestion: check for spelling errors or missing imports.\n",
      "\n",
      "Stacktrace:\n",
      " [1] top-level scope\n",
      "   @ c:\\Users\\c_dhruahu\\VSCode\\baysian-statistics-julia\\jl_notebook_cell_df34fa98e69747e1a8f8a730347b8e2f_W3sZmlsZQ==.jl:2"
     ]
    }
   ],
   "source": [
    "y_hat(x) = 1 / (1 + ℯ^(-143 + 31.8*x))\n",
    "y_hat.(dat.x)"
   ]
  },
  {
   "cell_type": "code",
   "execution_count": 4,
   "id": "a14df3ef",
   "metadata": {},
   "outputs": [
    {
     "name": "stderr",
     "output_type": "stream",
     "text": [
      "\u001b[32m\u001b[1m   Resolving\u001b[22m\u001b[39m package versions...\n",
      "\u001b[32m\u001b[1m  No Changes\u001b[22m\u001b[39m to `C:\\Users\\c_dhruahu\\VSCode\\baysian-statistics-julia\\Project.toml`\n",
      "\u001b[32m\u001b[1m  No Changes\u001b[22m\u001b[39m to `C:\\Users\\c_dhruahu\\VSCode\\baysian-statistics-julia\\Manifest.toml`\n"
     ]
    },
    {
     "data": {
      "text/plain": [
       "0.7310585786300049"
      ]
     },
     "metadata": {},
     "output_type": "display_data"
    }
   ],
   "source": [
    "\n",
    "import Pkg; Pkg.add(\"StatsFuns\")\n",
    "import StatsFuns: logistic\n",
    "\n",
    "logistic(1)\n"
   ]
  },
  {
   "cell_type": "code",
   "execution_count": 5,
   "id": "8e821d2a",
   "metadata": {},
   "outputs": [
    {
     "name": "stderr",
     "output_type": "stream",
     "text": [
      "\u001b[32mSampling   0%|█                                         |  ETA: N/A\u001b[39m\n",
      "┌ Info: Found initial step size\n",
      "│   ϵ = 12.8\n",
      "└ @ Turing.Inference C:\\Users\\c_dhruahu\\.julia\\packages\\Turing\\Me3pq\\src\\mcmc\\hmc.jl:214\n",
      "\u001b[32mSampling   0%|█                                         |  ETA: 0:19:51\u001b[39m\n",
      "\u001b[32mSampling   1%|█                                         |  ETA: 0:09:56\u001b[39m\n",
      "\u001b[32mSampling   2%|█                                         |  ETA: 0:06:35\u001b[39m\n",
      "\u001b[32mSampling   2%|█                                         |  ETA: 0:04:55\u001b[39m\n",
      "\u001b[32mSampling   2%|██                                        |  ETA: 0:03:55\u001b[39m\n",
      "\u001b[32mSampling   3%|██                                        |  ETA: 0:03:15\u001b[39m\n",
      "\u001b[32mSampling   4%|██                                        |  ETA: 0:02:47\u001b[39m\n",
      "\u001b[32mSampling   4%|██                                        |  ETA: 0:02:26\u001b[39m\n",
      "\u001b[32mSampling   4%|██                                        |  ETA: 0:02:09\u001b[39m\n",
      "\u001b[32mSampling   5%|███                                       |  ETA: 0:01:56\u001b[39m\n",
      "\u001b[32mSampling   6%|███                                       |  ETA: 0:01:45\u001b[39m\n",
      "\u001b[32mSampling   6%|███                                       |  ETA: 0:01:35\u001b[39m\n",
      "\u001b[32mSampling   6%|███                                       |  ETA: 0:01:28\u001b[39m\n",
      "\u001b[32mSampling   7%|███                                       |  ETA: 0:01:22\u001b[39m\n",
      "\u001b[32mSampling   8%|████                                      |  ETA: 0:01:16\u001b[39m\n",
      "\u001b[32mSampling   8%|████                                      |  ETA: 0:01:11\u001b[39m\n",
      "\u001b[32mSampling   8%|████                                      |  ETA: 0:01:07\u001b[39m\n",
      "\u001b[32mSampling   9%|████                                      |  ETA: 0:01:03\u001b[39m\n",
      "\u001b[32mSampling  10%|████                                      |  ETA: 0:01:00\u001b[39m\n",
      "\u001b[32mSampling  10%|█████                                     |  ETA: 0:00:56\u001b[39m\n",
      "\u001b[32mSampling  10%|█████                                     |  ETA: 0:00:53\u001b[39m\n",
      "\u001b[32mSampling  11%|█████                                     |  ETA: 0:00:51\u001b[39m\n",
      "\u001b[32mSampling  12%|█████                                     |  ETA: 0:00:48\u001b[39m\n",
      "\u001b[32mSampling  12%|██████                                    |  ETA: 0:00:46\u001b[39m\n",
      "\u001b[32mSampling  12%|██████                                    |  ETA: 0:00:44\u001b[39m\n",
      "\u001b[32mSampling  13%|██████                                    |  ETA: 0:00:42\u001b[39m\n",
      "\u001b[32mSampling  14%|██████                                    |  ETA: 0:00:40\u001b[39m\n",
      "\u001b[32mSampling  14%|██████                                    |  ETA: 0:00:39\u001b[39m\n",
      "\u001b[32mSampling  14%|███████                                   |  ETA: 0:00:37\u001b[39m\n",
      "\u001b[32mSampling  15%|███████                                   |  ETA: 0:00:36\u001b[39m\n",
      "\u001b[32mSampling  16%|███████                                   |  ETA: 0:00:34\u001b[39m\n",
      "\u001b[32mSampling  16%|███████                                   |  ETA: 0:00:33\u001b[39m\n",
      "\u001b[32mSampling  16%|███████                                   |  ETA: 0:00:32\u001b[39m\n",
      "\u001b[32mSampling  17%|████████                                  |  ETA: 0:00:31\u001b[39m\n",
      "\u001b[32mSampling  18%|████████                                  |  ETA: 0:00:30\u001b[39m\n",
      "\u001b[32mSampling  18%|████████                                  |  ETA: 0:00:29\u001b[39m\n",
      "\u001b[32mSampling  18%|████████                                  |  ETA: 0:00:28\u001b[39m\n",
      "\u001b[32mSampling  19%|████████                                  |  ETA: 0:00:27\u001b[39m\n",
      "\u001b[32mSampling  20%|█████████                                 |  ETA: 0:00:26\u001b[39m\n",
      "\u001b[32mSampling  20%|█████████                                 |  ETA: 0:00:26\u001b[39m\n",
      "\u001b[32mSampling  20%|█████████                                 |  ETA: 0:00:25\u001b[39m\n",
      "\u001b[32mSampling  21%|█████████                                 |  ETA: 0:00:24\u001b[39m\n",
      "\u001b[32mSampling  22%|██████████                                |  ETA: 0:00:23\u001b[39m\n",
      "\u001b[32mSampling  22%|██████████                                |  ETA: 0:00:23\u001b[39m\n",
      "\u001b[32mSampling  22%|██████████                                |  ETA: 0:00:22\u001b[39m\n",
      "\u001b[32mSampling  23%|██████████                                |  ETA: 0:00:22\u001b[39m\n",
      "\u001b[32mSampling  24%|██████████                                |  ETA: 0:00:21\u001b[39m\n",
      "\u001b[32mSampling  24%|███████████                               |  ETA: 0:00:20\u001b[39m\n",
      "\u001b[32mSampling  24%|███████████                               |  ETA: 0:00:20\u001b[39m\n",
      "\u001b[32mSampling  25%|███████████                               |  ETA: 0:00:19\u001b[39m\n",
      "\u001b[32mSampling  26%|███████████                               |  ETA: 0:00:19\u001b[39m\n",
      "\u001b[32mSampling  26%|███████████                               |  ETA: 0:00:18\u001b[39m\n",
      "\u001b[32mSampling  26%|████████████                              |  ETA: 0:00:18\u001b[39m\n",
      "\u001b[32mSampling  27%|████████████                              |  ETA: 0:00:18\u001b[39m\n",
      "\u001b[32mSampling  28%|████████████                              |  ETA: 0:00:17\u001b[39m\n",
      "\u001b[32mSampling  28%|████████████                              |  ETA: 0:00:17\u001b[39m\n",
      "\u001b[32mSampling  28%|████████████                              |  ETA: 0:00:16\u001b[39m\n",
      "\u001b[32mSampling  29%|█████████████                             |  ETA: 0:00:16\u001b[39m\n",
      "\u001b[32mSampling  30%|█████████████                             |  ETA: 0:00:16\u001b[39m\n",
      "\u001b[32mSampling  30%|█████████████                             |  ETA: 0:00:15\u001b[39m\n",
      "\u001b[32mSampling  30%|█████████████                             |  ETA: 0:00:15\u001b[39m\n",
      "\u001b[32mSampling  31%|██████████████                            |  ETA: 0:00:15\u001b[39m\n",
      "\u001b[32mSampling  32%|██████████████                            |  ETA: 0:00:14\u001b[39m\n",
      "\u001b[32mSampling  32%|██████████████                            |  ETA: 0:00:14\u001b[39m\n",
      "\u001b[32mSampling  32%|██████████████                            |  ETA: 0:00:14\u001b[39m\n",
      "\u001b[32mSampling  33%|██████████████                            |  ETA: 0:00:13\u001b[39m\n",
      "\u001b[32mSampling  34%|███████████████                           |  ETA: 0:00:13\u001b[39m\n",
      "\u001b[32mSampling  34%|███████████████                           |  ETA: 0:00:13\u001b[39m\n",
      "\u001b[32mSampling  34%|███████████████                           |  ETA: 0:00:13\u001b[39m\n",
      "\u001b[32mSampling  35%|███████████████                           |  ETA: 0:00:12\u001b[39m\n",
      "\u001b[32mSampling  36%|███████████████                           |  ETA: 0:00:12\u001b[39m\n",
      "\u001b[32mSampling  36%|████████████████                          |  ETA: 0:00:12\u001b[39m\n",
      "\u001b[32mSampling  36%|████████████████                          |  ETA: 0:00:11\u001b[39m\n",
      "\u001b[32mSampling  37%|████████████████                          |  ETA: 0:00:11\u001b[39m\n",
      "\u001b[32mSampling  38%|████████████████                          |  ETA: 0:00:11\u001b[39m\n",
      "\u001b[32mSampling  38%|████████████████                          |  ETA: 0:00:11\u001b[39m\n",
      "\u001b[32mSampling  38%|█████████████████                         |  ETA: 0:00:11\u001b[39m\n",
      "\u001b[32mSampling  39%|█████████████████                         |  ETA: 0:00:10\u001b[39m\n",
      "\u001b[32mSampling  40%|█████████████████                         |  ETA: 0:00:10\u001b[39m\n",
      "\u001b[32mSampling  40%|█████████████████                         |  ETA: 0:00:10\u001b[39m\n",
      "\u001b[32mSampling  40%|██████████████████                        |  ETA: 0:00:10\u001b[39m\n",
      "\u001b[32mSampling  41%|██████████████████                        |  ETA: 0:00:10\u001b[39m\n",
      "\u001b[32mSampling  42%|██████████████████                        |  ETA: 0:00:09\u001b[39m\n",
      "\u001b[32mSampling  42%|██████████████████                        |  ETA: 0:00:09\u001b[39m\n",
      "\u001b[32mSampling  42%|██████████████████                        |  ETA: 0:00:09\u001b[39m\n",
      "\u001b[32mSampling  43%|███████████████████                       |  ETA: 0:00:09\u001b[39m\n",
      "\u001b[32mSampling  44%|███████████████████                       |  ETA: 0:00:09\u001b[39m\n",
      "\u001b[32mSampling  44%|███████████████████                       |  ETA: 0:00:08\u001b[39m\n",
      "\u001b[32mSampling  44%|███████████████████                       |  ETA: 0:00:08\u001b[39m\n",
      "\u001b[32mSampling  45%|███████████████████                       |  ETA: 0:00:08\u001b[39m\n",
      "\u001b[32mSampling  46%|████████████████████                      |  ETA: 0:00:08\u001b[39m\n",
      "\u001b[32mSampling  46%|████████████████████                      |  ETA: 0:00:08\u001b[39m\n",
      "\u001b[32mSampling  46%|████████████████████                      |  ETA: 0:00:08\u001b[39m\n",
      "\u001b[32mSampling  47%|████████████████████                      |  ETA: 0:00:08\u001b[39m\n",
      "\u001b[32mSampling  48%|████████████████████                      |  ETA: 0:00:07\u001b[39m\n",
      "\u001b[32mSampling  48%|█████████████████████                     |  ETA: 0:00:07\u001b[39m\n",
      "\u001b[32mSampling  48%|█████████████████████                     |  ETA: 0:00:07\u001b[39m\n",
      "\u001b[32mSampling  49%|█████████████████████                     |  ETA: 0:00:07\u001b[39m\n",
      "\u001b[32mSampling  50%|█████████████████████                     |  ETA: 0:00:07\u001b[39m\n",
      "\u001b[32mSampling  50%|██████████████████████                    |  ETA: 0:00:07\u001b[39m\n",
      "\u001b[32mSampling  50%|██████████████████████                    |  ETA: 0:00:07\u001b[39m\n",
      "\u001b[32mSampling  51%|██████████████████████                    |  ETA: 0:00:07\u001b[39m\n",
      "\u001b[32mSampling  52%|██████████████████████                    |  ETA: 0:00:06\u001b[39m\n",
      "\u001b[32mSampling  52%|██████████████████████                    |  ETA: 0:00:06\u001b[39m\n",
      "\u001b[32mSampling  52%|███████████████████████                   |  ETA: 0:00:06\u001b[39m\n",
      "\u001b[32mSampling  53%|███████████████████████                   |  ETA: 0:00:06\u001b[39m\n",
      "\u001b[32mSampling  54%|███████████████████████                   |  ETA: 0:00:06\u001b[39m\n",
      "\u001b[32mSampling  54%|███████████████████████                   |  ETA: 0:00:06\u001b[39m\n",
      "\u001b[32mSampling  55%|███████████████████████                   |  ETA: 0:00:06\u001b[39m\n",
      "\u001b[32mSampling  55%|████████████████████████                  |  ETA: 0:00:06\u001b[39m\n",
      "\u001b[32mSampling  56%|████████████████████████                  |  ETA: 0:00:05\u001b[39m\n",
      "\u001b[32mSampling  56%|████████████████████████                  |  ETA: 0:00:05\u001b[39m\n",
      "\u001b[32mSampling  56%|████████████████████████                  |  ETA: 0:00:05\u001b[39m\n",
      "\u001b[32mSampling  57%|████████████████████████                  |  ETA: 0:00:05\u001b[39m\n",
      "\u001b[32mSampling  57%|█████████████████████████                 |  ETA: 0:00:05\u001b[39m\n",
      "\u001b[32mSampling  58%|█████████████████████████                 |  ETA: 0:00:05\u001b[39m\n",
      "\u001b[32mSampling  58%|█████████████████████████                 |  ETA: 0:00:05\u001b[39m\n",
      "\u001b[32mSampling  59%|█████████████████████████                 |  ETA: 0:00:05\u001b[39m\n",
      "\u001b[32mSampling  60%|█████████████████████████                 |  ETA: 0:00:05\u001b[39m\n",
      "\u001b[32mSampling  60%|██████████████████████████                |  ETA: 0:00:05\u001b[39m\n",
      "\u001b[32mSampling  60%|██████████████████████████                |  ETA: 0:00:04\u001b[39m\n",
      "\u001b[32mSampling  61%|██████████████████████████                |  ETA: 0:00:04\u001b[39m\n",
      "\u001b[32mSampling  62%|██████████████████████████                |  ETA: 0:00:04\u001b[39m\n",
      "\u001b[32mSampling  62%|███████████████████████████               |  ETA: 0:00:04\u001b[39m\n",
      "\u001b[32mSampling  62%|███████████████████████████               |  ETA: 0:00:04\u001b[39m\n",
      "\u001b[32mSampling  63%|███████████████████████████               |  ETA: 0:00:04\u001b[39m\n",
      "\u001b[32mSampling  64%|███████████████████████████               |  ETA: 0:00:04\u001b[39m\n",
      "\u001b[32mSampling  64%|███████████████████████████               |  ETA: 0:00:04\u001b[39m\n",
      "\u001b[32mSampling  64%|████████████████████████████              |  ETA: 0:00:04\u001b[39m\n",
      "\u001b[32mSampling  65%|████████████████████████████              |  ETA: 0:00:04\u001b[39m\n",
      "\u001b[32mSampling  66%|████████████████████████████              |  ETA: 0:00:04\u001b[39m\n",
      "\u001b[32mSampling  66%|████████████████████████████              |  ETA: 0:00:04\u001b[39m\n",
      "\u001b[32mSampling  66%|████████████████████████████              |  ETA: 0:00:04\u001b[39m\n",
      "\u001b[32mSampling  67%|█████████████████████████████             |  ETA: 0:00:03\u001b[39m\n",
      "\u001b[32mSampling  68%|█████████████████████████████             |  ETA: 0:00:03\u001b[39m\n",
      "\u001b[32mSampling  68%|█████████████████████████████             |  ETA: 0:00:03\u001b[39m\n",
      "\u001b[32mSampling  68%|█████████████████████████████             |  ETA: 0:00:03\u001b[39m\n",
      "\u001b[32mSampling  69%|█████████████████████████████             |  ETA: 0:00:03\u001b[39m\n",
      "\u001b[32mSampling  70%|██████████████████████████████            |  ETA: 0:00:03\u001b[39m\n",
      "\u001b[32mSampling  70%|██████████████████████████████            |  ETA: 0:00:03\u001b[39m\n",
      "\u001b[32mSampling  70%|██████████████████████████████            |  ETA: 0:00:03\u001b[39m\n",
      "\u001b[32mSampling  71%|██████████████████████████████            |  ETA: 0:00:03\u001b[39m\n",
      "\u001b[32mSampling  72%|███████████████████████████████           |  ETA: 0:00:03\u001b[39m\n",
      "\u001b[32mSampling  72%|███████████████████████████████           |  ETA: 0:00:03\u001b[39m\n",
      "\u001b[32mSampling  72%|███████████████████████████████           |  ETA: 0:00:03\u001b[39m\n",
      "\u001b[32mSampling  73%|███████████████████████████████           |  ETA: 0:00:03\u001b[39m\n",
      "\u001b[32mSampling  74%|███████████████████████████████           |  ETA: 0:00:03\u001b[39m\n",
      "\u001b[32mSampling  74%|████████████████████████████████          |  ETA: 0:00:02\u001b[39m\n",
      "\u001b[32mSampling  74%|████████████████████████████████          |  ETA: 0:00:02\u001b[39m\n",
      "\u001b[32mSampling  75%|████████████████████████████████          |  ETA: 0:00:02\u001b[39m\n",
      "\u001b[32mSampling  76%|████████████████████████████████          |  ETA: 0:00:02\u001b[39m\n",
      "\u001b[32mSampling  76%|████████████████████████████████          |  ETA: 0:00:02\u001b[39m\n",
      "\u001b[32mSampling  76%|█████████████████████████████████         |  ETA: 0:00:02\u001b[39m\n",
      "\u001b[32mSampling  77%|█████████████████████████████████         |  ETA: 0:00:02\u001b[39m\n",
      "\u001b[32mSampling  78%|█████████████████████████████████         |  ETA: 0:00:02\u001b[39m\n",
      "\u001b[32mSampling  78%|█████████████████████████████████         |  ETA: 0:00:02\u001b[39m\n",
      "\u001b[32mSampling  78%|█████████████████████████████████         |  ETA: 0:00:02\u001b[39m\n",
      "\u001b[32mSampling  79%|██████████████████████████████████        |  ETA: 0:00:02\u001b[39m\n",
      "\u001b[32mSampling  80%|██████████████████████████████████        |  ETA: 0:00:02\u001b[39m\n",
      "\u001b[32mSampling  80%|██████████████████████████████████        |  ETA: 0:00:02\u001b[39m\n",
      "\u001b[32mSampling  80%|██████████████████████████████████        |  ETA: 0:00:02\u001b[39m\n",
      "\u001b[32mSampling  81%|███████████████████████████████████       |  ETA: 0:00:02\u001b[39m\n",
      "\u001b[32mSampling  82%|███████████████████████████████████       |  ETA: 0:00:02\u001b[39m\n",
      "\u001b[32mSampling  82%|███████████████████████████████████       |  ETA: 0:00:02\u001b[39m\n",
      "\u001b[32mSampling  82%|███████████████████████████████████       |  ETA: 0:00:02\u001b[39m\n",
      "\u001b[32mSampling  83%|███████████████████████████████████       |  ETA: 0:00:01\u001b[39m\n",
      "\u001b[32mSampling  84%|████████████████████████████████████      |  ETA: 0:00:01\u001b[39m\n",
      "\u001b[32mSampling  84%|████████████████████████████████████      |  ETA: 0:00:01\u001b[39m\n",
      "\u001b[32mSampling  84%|████████████████████████████████████      |  ETA: 0:00:01\u001b[39m\n",
      "\u001b[32mSampling  85%|████████████████████████████████████      |  ETA: 0:00:01\u001b[39m\n",
      "\u001b[32mSampling  86%|████████████████████████████████████      |  ETA: 0:00:01\u001b[39m\n",
      "\u001b[32mSampling  86%|█████████████████████████████████████     |  ETA: 0:00:01\u001b[39m\n",
      "\u001b[32mSampling  86%|█████████████████████████████████████     |  ETA: 0:00:01\u001b[39m\n",
      "\u001b[32mSampling  87%|█████████████████████████████████████     |  ETA: 0:00:01\u001b[39m\n",
      "\u001b[32mSampling  88%|█████████████████████████████████████     |  ETA: 0:00:01\u001b[39m\n",
      "\u001b[32mSampling  88%|█████████████████████████████████████     |  ETA: 0:00:01\u001b[39m\n",
      "\u001b[32mSampling  88%|██████████████████████████████████████    |  ETA: 0:00:01\u001b[39m\n",
      "\u001b[32mSampling  89%|██████████████████████████████████████    |  ETA: 0:00:01\u001b[39m\n",
      "\u001b[32mSampling  90%|██████████████████████████████████████    |  ETA: 0:00:01\u001b[39m\n",
      "\u001b[32mSampling  90%|██████████████████████████████████████    |  ETA: 0:00:01\u001b[39m\n",
      "\u001b[32mSampling  90%|███████████████████████████████████████   |  ETA: 0:00:01\u001b[39m\n",
      "\u001b[32mSampling  91%|███████████████████████████████████████   |  ETA: 0:00:01\u001b[39m\n",
      "\u001b[32mSampling  92%|███████████████████████████████████████   |  ETA: 0:00:01\u001b[39m\n",
      "\u001b[32mSampling  92%|███████████████████████████████████████   |  ETA: 0:00:01\u001b[39m\n",
      "\u001b[32mSampling  92%|███████████████████████████████████████   |  ETA: 0:00:01\u001b[39m\n",
      "\u001b[32mSampling  93%|████████████████████████████████████████  |  ETA: 0:00:01\u001b[39m\n",
      "\u001b[32mSampling  94%|████████████████████████████████████████  |  ETA: 0:00:01\u001b[39m\n",
      "\u001b[32mSampling  94%|████████████████████████████████████████  |  ETA: 0:00:00\u001b[39m\n",
      "\u001b[32mSampling  94%|████████████████████████████████████████  |  ETA: 0:00:00\u001b[39m\n",
      "\u001b[32mSampling  95%|████████████████████████████████████████  |  ETA: 0:00:00\u001b[39m\n",
      "\u001b[32mSampling  96%|█████████████████████████████████████████ |  ETA: 0:00:00\u001b[39m\n",
      "\u001b[32mSampling  96%|█████████████████████████████████████████ |  ETA: 0:00:00\u001b[39m\n",
      "\u001b[32mSampling  96%|█████████████████████████████████████████ |  ETA: 0:00:00\u001b[39m\n",
      "\u001b[32mSampling  97%|█████████████████████████████████████████ |  ETA: 0:00:00\u001b[39m\n",
      "\u001b[32mSampling  98%|█████████████████████████████████████████ |  ETA: 0:00:00\u001b[39m\n",
      "\u001b[32mSampling  98%|██████████████████████████████████████████|  ETA: 0:00:00\u001b[39m\n",
      "\u001b[32mSampling  98%|██████████████████████████████████████████|  ETA: 0:00:00\u001b[39m\n",
      "\u001b[32mSampling  99%|██████████████████████████████████████████|  ETA: 0:00:00\u001b[39m\n",
      "\u001b[32mSampling 100%|██████████████████████████████████████████|  ETA: 0:00:00\u001b[39m\n",
      "\u001b[32mSampling 100%|██████████████████████████████████████████| Time: 0:00:07\u001b[39m\n",
      "\u001b[90mSampling 100%|██████████████████████████████████████████| Time: 0:00:09\u001b[39m\n"
     ]
    },
    {
     "data": {
      "text/plain": [
       "Chains MCMC chain (10000×16×1 Array{Float64, 3}):\n",
       "\n",
       "Iterations        = 1001:1:11000\n",
       "Number of chains  = 1\n",
       "Samples per chain = 10000\n",
       "Wall duration     = 8.07 seconds\n",
       "Compute duration  = 8.07 seconds\n",
       "parameters        = α, β\n",
       "internals         = n_steps, is_accept, acceptance_rate, log_density, hamiltonian_energy, hamiltonian_energy_error, max_hamiltonian_energy_error, tree_depth, numerical_error, step_size, nom_step_size, lp, logprior, loglikelihood\n",
       "\n",
       "Use `describe(chains)` for summary statistics and quantiles.\n"
      ]
     },
     "metadata": {},
     "output_type": "display_data"
    }
   ],
   "source": [
    "using Turing\n",
    "using Distributions\n",
    "\n",
    "@model function logistic_regression(x, y)\n",
    "    α ~ Normal(0, 1e3)\n",
    "    β ~ Normal(0, 1e3)\n",
    "    \n",
    "    ϕ = logistic.(α .+ β .* x)\n",
    "\n",
    "    for i in eachindex(y)\n",
    "        y[i] ~ Bernoulli(ϕ[i])\n",
    "    end\n",
    "end\n",
    "\n",
    "turing_model = logistic_regression(df.x, df.y)\n",
    "\n",
    "chains = sample(turing_model, NUTS(), 10000)"
   ]
  },
  {
   "cell_type": "code",
   "execution_count": 6,
   "id": "cf7fbe2a",
   "metadata": {},
   "outputs": [
    {
     "data": {
      "text/plain": [
       "2-dimensional AxisArray{Float64,2,...} with axes:\n",
       "    :iter, 1:1:1\n",
       "    :var, [:α, :β]\n",
       "And data, a 1×2 Matrix{Float64}:\n",
       " 897.901  -201.738"
      ]
     },
     "metadata": {},
     "output_type": "display_data"
    }
   ],
   "source": [
    "using StatsBase\n",
    "\n",
    "mean(chains.value[iter=9000:end, var=[:α, :β], chain=1], dims=1)"
   ]
  },
  {
   "cell_type": "code",
   "execution_count": 7,
   "id": "83b3f904",
   "metadata": {},
   "outputs": [
    {
     "data": {
      "text/plain": [
       "8-element Vector{Union{Missing, Float64}}:\n",
       " 1.0\n",
       " 1.0\n",
       " 1.0\n",
       " 0.9999998759446539\n",
       " 1.2405534615496173e-7\n",
       " 1.9091788576462898e-21\n",
       " 2.938175234909494e-35\n",
       " 4.5217731573239836e-49"
      ]
     },
     "metadata": {},
     "output_type": "display_data"
    }
   ],
   "source": [
    "predict(model, df)"
   ]
  },
  {
   "cell_type": "code",
   "execution_count": 8,
   "id": "2c2d67fd",
   "metadata": {},
   "outputs": [
    {
     "data": {
      "text/plain": [
       "8-element Vector{Float64}:\n",
       " 1.0\n",
       " 1.0\n",
       " 1.0\n",
       " 1.0\n",
       " 1.821012258598756e-81\n",
       " 1.2150875230721452e-227\n",
       " 0.0\n",
       " 0.0"
      ]
     },
     "metadata": {},
     "output_type": "display_data"
    }
   ],
   "source": [
    "predict_turing(x) = logistic(1497 - 336.582x)\n",
    "\n",
    "predict_turing.(df.x) "
   ]
  },
  {
   "cell_type": "code",
   "execution_count": 28,
   "id": "a43a4e1f",
   "metadata": {},
   "outputs": [
    {
     "data": {
      "text/html": [
       "<div><div style = \"float: left;\"><span>5×7 DataFrame</span></div><div style = \"clear: both;\"></div></div><div class = \"data-frame\" style = \"overflow-x: scroll;\"><table class = \"data-frame\" style = \"margin-bottom: 6px;\"><thead><tr class = \"header\"><th class = \"rowNumber\" style = \"font-weight: bold; text-align: right;\">Row</th><th style = \"text-align: left;\">ID</th><th style = \"text-align: left;\">Age</th><th style = \"text-align: left;\">OME</th><th style = \"text-align: left;\">Loud</th><th style = \"text-align: left;\">Noise</th><th style = \"text-align: left;\">Correct</th><th style = \"text-align: left;\">Trials</th></tr><tr class = \"subheader headerLastRow\"><th class = \"rowNumber\" style = \"font-weight: bold; text-align: right;\"></th><th title = \"Int32\" style = \"text-align: left;\">Int32</th><th title = \"Int32\" style = \"text-align: left;\">Int32</th><th title = \"CategoricalArrays.CategoricalValue{String, UInt8}\" style = \"text-align: left;\">Cat…</th><th title = \"Int32\" style = \"text-align: left;\">Int32</th><th title = \"CategoricalArrays.CategoricalValue{String, UInt8}\" style = \"text-align: left;\">Cat…</th><th title = \"Int32\" style = \"text-align: left;\">Int32</th><th title = \"Int32\" style = \"text-align: left;\">Int32</th></tr></thead><tbody><tr><td class = \"rowNumber\" style = \"font-weight: bold; text-align: right;\">1</td><td style = \"text-align: right;\">1</td><td style = \"text-align: right;\">30</td><td style = \"text-align: left;\">low</td><td style = \"text-align: right;\">35</td><td style = \"text-align: left;\">coherent</td><td style = \"text-align: right;\">1</td><td style = \"text-align: right;\">4</td></tr><tr><td class = \"rowNumber\" style = \"font-weight: bold; text-align: right;\">2</td><td style = \"text-align: right;\">1</td><td style = \"text-align: right;\">30</td><td style = \"text-align: left;\">low</td><td style = \"text-align: right;\">35</td><td style = \"text-align: left;\">incoherent</td><td style = \"text-align: right;\">4</td><td style = \"text-align: right;\">5</td></tr><tr><td class = \"rowNumber\" style = \"font-weight: bold; text-align: right;\">3</td><td style = \"text-align: right;\">1</td><td style = \"text-align: right;\">30</td><td style = \"text-align: left;\">low</td><td style = \"text-align: right;\">40</td><td style = \"text-align: left;\">coherent</td><td style = \"text-align: right;\">0</td><td style = \"text-align: right;\">3</td></tr><tr><td class = \"rowNumber\" style = \"font-weight: bold; text-align: right;\">4</td><td style = \"text-align: right;\">1</td><td style = \"text-align: right;\">30</td><td style = \"text-align: left;\">low</td><td style = \"text-align: right;\">40</td><td style = \"text-align: left;\">incoherent</td><td style = \"text-align: right;\">1</td><td style = \"text-align: right;\">1</td></tr><tr><td class = \"rowNumber\" style = \"font-weight: bold; text-align: right;\">5</td><td style = \"text-align: right;\">1</td><td style = \"text-align: right;\">30</td><td style = \"text-align: left;\">low</td><td style = \"text-align: right;\">45</td><td style = \"text-align: left;\">coherent</td><td style = \"text-align: right;\">2</td><td style = \"text-align: right;\">4</td></tr></tbody></table></div>"
      ],
      "text/latex": [
       "\\begin{tabular}{r|ccccccc}\n",
       "\t& ID & Age & OME & Loud & Noise & Correct & Trials\\\\\n",
       "\t\\hline\n",
       "\t& Int32 & Int32 & Cat… & Int32 & Cat… & Int32 & Int32\\\\\n",
       "\t\\hline\n",
       "\t1 & 1 & 30 & low & 35 & coherent & 1 & 4 \\\\\n",
       "\t2 & 1 & 30 & low & 35 & incoherent & 4 & 5 \\\\\n",
       "\t3 & 1 & 30 & low & 40 & coherent & 0 & 3 \\\\\n",
       "\t4 & 1 & 30 & low & 40 & incoherent & 1 & 1 \\\\\n",
       "\t5 & 1 & 30 & low & 45 & coherent & 2 & 4 \\\\\n",
       "\\end{tabular}\n"
      ],
      "text/plain": [
       "\u001b[1m5×7 DataFrame\u001b[0m\n",
       "\u001b[1m Row \u001b[0m│\u001b[1m ID    \u001b[0m\u001b[1m Age   \u001b[0m\u001b[1m OME  \u001b[0m\u001b[1m Loud  \u001b[0m\u001b[1m Noise      \u001b[0m\u001b[1m Correct \u001b[0m\u001b[1m Trials \u001b[0m\n",
       "     │\u001b[90m Int32 \u001b[0m\u001b[90m Int32 \u001b[0m\u001b[90m Cat… \u001b[0m\u001b[90m Int32 \u001b[0m\u001b[90m Cat…       \u001b[0m\u001b[90m Int32   \u001b[0m\u001b[90m Int32  \u001b[0m\n",
       "─────┼────────────────────────────────────────────────────────\n",
       "   1 │     1     30  low      35  coherent          1       4\n",
       "   2 │     1     30  low      35  incoherent        4       5\n",
       "   3 │     1     30  low      40  coherent          0       3\n",
       "   4 │     1     30  low      40  incoherent        1       1\n",
       "   5 │     1     30  low      45  coherent          2       4"
      ]
     },
     "metadata": {},
     "output_type": "display_data"
    }
   ],
   "source": [
    "import RDatasets: dataset\n",
    "\n",
    "ome_dataset = dataset(\"MASS\", \"OME\")\n",
    "ome_dataset = filter(row -> row.OME != \"N/A\", ome_dataset)\n",
    "first(ome_dataset, 5)"
   ]
  },
  {
   "cell_type": "code",
   "execution_count": 29,
   "id": "2e1d7705",
   "metadata": {},
   "outputs": [
    {
     "data": {
      "text/html": [
       "<div><div style = \"float: left;\"><span>5×10 DataFrame</span></div><div style = \"clear: both;\"></div></div><div class = \"data-frame\" style = \"overflow-x: scroll;\"><table class = \"data-frame\" style = \"margin-bottom: 6px;\"><thead><tr class = \"header\"><th class = \"rowNumber\" style = \"font-weight: bold; text-align: right;\">Row</th><th style = \"text-align: left;\">ID</th><th style = \"text-align: left;\">Age</th><th style = \"text-align: left;\">OME</th><th style = \"text-align: left;\">Loud</th><th style = \"text-align: left;\">Noise</th><th style = \"text-align: left;\">Correct</th><th style = \"text-align: left;\">Trials</th><th style = \"text-align: left;\">Prob</th><th style = \"text-align: left;\">OMElow</th><th style = \"text-align: left;\">NoiseCoherent</th></tr><tr class = \"subheader headerLastRow\"><th class = \"rowNumber\" style = \"font-weight: bold; text-align: right;\"></th><th title = \"Int32\" style = \"text-align: left;\">Int32</th><th title = \"Int32\" style = \"text-align: left;\">Int32</th><th title = \"CategoricalArrays.CategoricalValue{String, UInt8}\" style = \"text-align: left;\">Cat…</th><th title = \"Int32\" style = \"text-align: left;\">Int32</th><th title = \"CategoricalArrays.CategoricalValue{String, UInt8}\" style = \"text-align: left;\">Cat…</th><th title = \"Int32\" style = \"text-align: left;\">Int32</th><th title = \"Int32\" style = \"text-align: left;\">Int32</th><th title = \"Float64\" style = \"text-align: left;\">Float64</th><th title = \"Int64\" style = \"text-align: left;\">Int64</th><th title = \"Int64\" style = \"text-align: left;\">Int64</th></tr></thead><tbody><tr><td class = \"rowNumber\" style = \"font-weight: bold; text-align: right;\">1</td><td style = \"text-align: right;\">1</td><td style = \"text-align: right;\">30</td><td style = \"text-align: left;\">low</td><td style = \"text-align: right;\">35</td><td style = \"text-align: left;\">coherent</td><td style = \"text-align: right;\">1</td><td style = \"text-align: right;\">4</td><td style = \"text-align: right;\">0.25</td><td style = \"text-align: right;\">1</td><td style = \"text-align: right;\">1</td></tr><tr><td class = \"rowNumber\" style = \"font-weight: bold; text-align: right;\">2</td><td style = \"text-align: right;\">1</td><td style = \"text-align: right;\">30</td><td style = \"text-align: left;\">low</td><td style = \"text-align: right;\">35</td><td style = \"text-align: left;\">incoherent</td><td style = \"text-align: right;\">4</td><td style = \"text-align: right;\">5</td><td style = \"text-align: right;\">0.8</td><td style = \"text-align: right;\">1</td><td style = \"text-align: right;\">0</td></tr><tr><td class = \"rowNumber\" style = \"font-weight: bold; text-align: right;\">3</td><td style = \"text-align: right;\">1</td><td style = \"text-align: right;\">30</td><td style = \"text-align: left;\">low</td><td style = \"text-align: right;\">40</td><td style = \"text-align: left;\">coherent</td><td style = \"text-align: right;\">0</td><td style = \"text-align: right;\">3</td><td style = \"text-align: right;\">0.0</td><td style = \"text-align: right;\">1</td><td style = \"text-align: right;\">1</td></tr><tr><td class = \"rowNumber\" style = \"font-weight: bold; text-align: right;\">4</td><td style = \"text-align: right;\">1</td><td style = \"text-align: right;\">30</td><td style = \"text-align: left;\">low</td><td style = \"text-align: right;\">40</td><td style = \"text-align: left;\">incoherent</td><td style = \"text-align: right;\">1</td><td style = \"text-align: right;\">1</td><td style = \"text-align: right;\">1.0</td><td style = \"text-align: right;\">1</td><td style = \"text-align: right;\">0</td></tr><tr><td class = \"rowNumber\" style = \"font-weight: bold; text-align: right;\">5</td><td style = \"text-align: right;\">1</td><td style = \"text-align: right;\">30</td><td style = \"text-align: left;\">low</td><td style = \"text-align: right;\">45</td><td style = \"text-align: left;\">coherent</td><td style = \"text-align: right;\">2</td><td style = \"text-align: right;\">4</td><td style = \"text-align: right;\">0.5</td><td style = \"text-align: right;\">1</td><td style = \"text-align: right;\">1</td></tr></tbody></table></div>"
      ],
      "text/latex": [
       "\\begin{tabular}{r|cccccccccc}\n",
       "\t& ID & Age & OME & Loud & Noise & Correct & Trials & Prob & OMElow & NoiseCoherent\\\\\n",
       "\t\\hline\n",
       "\t& Int32 & Int32 & Cat… & Int32 & Cat… & Int32 & Int32 & Float64 & Int64 & Int64\\\\\n",
       "\t\\hline\n",
       "\t1 & 1 & 30 & low & 35 & coherent & 1 & 4 & 0.25 & 1 & 1 \\\\\n",
       "\t2 & 1 & 30 & low & 35 & incoherent & 4 & 5 & 0.8 & 1 & 0 \\\\\n",
       "\t3 & 1 & 30 & low & 40 & coherent & 0 & 3 & 0.0 & 1 & 1 \\\\\n",
       "\t4 & 1 & 30 & low & 40 & incoherent & 1 & 1 & 1.0 & 1 & 0 \\\\\n",
       "\t5 & 1 & 30 & low & 45 & coherent & 2 & 4 & 0.5 & 1 & 1 \\\\\n",
       "\\end{tabular}\n"
      ],
      "text/plain": [
       "\u001b[1m5×10 DataFrame\u001b[0m\n",
       "\u001b[1m Row \u001b[0m│\u001b[1m ID    \u001b[0m\u001b[1m Age   \u001b[0m\u001b[1m OME  \u001b[0m\u001b[1m Loud  \u001b[0m\u001b[1m Noise      \u001b[0m\u001b[1m Correct \u001b[0m\u001b[1m Trials \u001b[0m\u001b[1m Prob    \u001b[0m\u001b[1m OMElow\u001b[0m ⋯\n",
       "     │\u001b[90m Int32 \u001b[0m\u001b[90m Int32 \u001b[0m\u001b[90m Cat… \u001b[0m\u001b[90m Int32 \u001b[0m\u001b[90m Cat…       \u001b[0m\u001b[90m Int32   \u001b[0m\u001b[90m Int32  \u001b[0m\u001b[90m Float64 \u001b[0m\u001b[90m Int64 \u001b[0m ⋯\n",
       "─────┼──────────────────────────────────────────────────────────────────────────\n",
       "   1 │     1     30  low      35  coherent          1       4     0.25       1 ⋯\n",
       "   2 │     1     30  low      35  incoherent        4       5     0.8        1\n",
       "   3 │     1     30  low      40  coherent          0       3     0.0        1\n",
       "   4 │     1     30  low      40  incoherent        1       1     1.0        1\n",
       "   5 │     1     30  low      45  coherent          2       4     0.5        1 ⋯\n",
       "\u001b[36m                                                                1 column omitted\u001b[0m"
      ]
     },
     "metadata": {},
     "output_type": "display_data"
    }
   ],
   "source": [
    "dat = copy(ome_dataset)\n",
    "dat.Prob = dat.Correct ./ dat.Trials\n",
    "dat.OMElow = ifelse.(dat.OME .== \"low\", 1, 0)\n",
    "dat.NoiseCoherent = ifelse.(dat.Noise .== \"coherent\", 1, 0)\n",
    "first(dat, 5)"
   ]
  },
  {
   "cell_type": "code",
   "execution_count": 63,
   "id": "f5030ca3",
   "metadata": {},
   "outputs": [
    {
     "data": {
      "text/plain": [
       "StatsModels.TableRegressionModel{GeneralizedLinearModel{GLM.GlmResp{Vector{Float64}, Binomial{Float64}, LogitLink}, GLM.DensePredChol{Float64, CholeskyPivoted{Float64, Matrix{Float64}, Vector{Int64}}}}, Matrix{Float64}}\n",
       "\n",
       "Prob ~ 1 + Age + OMElow + Loud + NoiseCoherent\n",
       "\n",
       "Coefficients:\n",
       "──────────────────────────────────────────────────────────────────────────────\n",
       "                   Coef.  Std. Error       z  Pr(>|z|)  Lower 95%    Upper 95%\n",
       "──────────────────────────────────────────────────────────────────────────────\n",
       "(Intercept)    -5.71813   0.416159    -13.74    <1e-42  -6.53379   -4.90248\n",
       "Age             0.018896  0.00376638    5.02    <1e-06   0.011514   0.026278\n",
       "OMElow         -0.23715   0.123228     -1.92    0.0543  -0.478672   0.00437225\n",
       "Loud            0.171682  0.00887631   19.34    <1e-82   0.154284   0.189079\n",
       "NoiseCoherent  -1.5763    0.1152      -13.68    <1e-41  -1.80209   -1.35052\n",
       "──────────────────────────────────────────────────────────────────────────────"
      ]
     },
     "metadata": {},
     "output_type": "display_data"
    }
   ],
   "source": [
    "model = glm(@formula(Prob ~ Age + OMElow + Loud + NoiseCoherent), dat, Binomial(), LogitLink(), wts=dat.Trials)\n"
   ]
  },
  {
   "cell_type": "code",
   "execution_count": 65,
   "id": "a8ab201d",
   "metadata": {},
   "outputs": [
    {
     "data": {
      "text/plain": [
       "1-element Vector{Union{Missing, Float64}}:\n",
       " 0.9843301191352406"
      ]
     },
     "metadata": {},
     "output_type": "display_data"
    }
   ],
   "source": [
    "\n",
    "\n",
    "# Assuming model is already defined and trained\n",
    "# Example: model = glm(@formula(Y ~ age + OMElow + Loud + NoiseCoherent), data, Normal(), IdentityLink())\n",
    "\n",
    "new_data = DataFrame(Age = [60], OMElow = [0], Loud = [60], NoiseCoherent = [1])\n",
    "predict(model, new_data)\n"
   ]
  },
  {
   "cell_type": "code",
   "execution_count": 42,
   "id": "26e9fbd2",
   "metadata": {},
   "outputs": [
    {
     "name": "stderr",
     "output_type": "stream",
     "text": [
      "\u001b[32mSampling   0%|█                                         |  ETA: N/A\u001b[39m\n",
      "┌ Info: Found initial step size\n",
      "│   ϵ = 0.00625\n",
      "└ @ Turing.Inference C:\\Users\\c_dhruahu\\.julia\\packages\\Turing\\Me3pq\\src\\mcmc\\hmc.jl:214\n",
      "\u001b[32mSampling   0%|█                                         |  ETA: 0:06:59\u001b[39m\n",
      "\u001b[32mSampling   1%|█                                         |  ETA: 0:07:22\u001b[39m\n",
      "\u001b[32mSampling   2%|█                                         |  ETA: 0:06:59\u001b[39m\n",
      "\u001b[32mSampling   2%|█                                         |  ETA: 0:06:08\u001b[39m\n",
      "\u001b[32mSampling   2%|██                                        |  ETA: 0:05:47\u001b[39m\n",
      "\u001b[32mSampling   3%|██                                        |  ETA: 0:05:31\u001b[39m\n",
      "\u001b[32mSampling   4%|██                                        |  ETA: 0:05:16\u001b[39m\n",
      "\u001b[32mSampling   4%|██                                        |  ETA: 0:05:04\u001b[39m\n",
      "\u001b[32mSampling   4%|██                                        |  ETA: 0:04:54\u001b[39m\n",
      "\u001b[32mSampling   5%|███                                       |  ETA: 0:04:42\u001b[39m\n",
      "\u001b[32mSampling   6%|███                                       |  ETA: 0:04:31\u001b[39m\n",
      "\u001b[32mSampling   6%|███                                       |  ETA: 0:04:23\u001b[39m\n",
      "\u001b[32mSampling   6%|███                                       |  ETA: 0:04:16\u001b[39m\n",
      "\u001b[32mSampling   7%|███                                       |  ETA: 0:04:08\u001b[39m\n",
      "\u001b[32mSampling   8%|████                                      |  ETA: 0:04:01\u001b[39m\n",
      "\u001b[32mSampling   8%|████                                      |  ETA: 0:03:55\u001b[39m\n",
      "\u001b[32mSampling   8%|████                                      |  ETA: 0:03:49\u001b[39m\n",
      "\u001b[32mSampling   9%|████                                      |  ETA: 0:03:49\u001b[39m\n",
      "\u001b[32mSampling  10%|████                                      |  ETA: 0:03:46\u001b[39m\n",
      "\u001b[32mSampling  10%|█████                                     |  ETA: 0:03:44\u001b[39m\n",
      "\u001b[32mSampling  10%|█████                                     |  ETA: 0:03:41\u001b[39m\n",
      "\u001b[32mSampling  11%|█████                                     |  ETA: 0:03:39\u001b[39m\n",
      "\u001b[32mSampling  12%|█████                                     |  ETA: 0:03:37\u001b[39m\n",
      "\u001b[32mSampling  12%|██████                                    |  ETA: 0:03:36\u001b[39m\n",
      "\u001b[32mSampling  12%|██████                                    |  ETA: 0:03:34\u001b[39m\n",
      "\u001b[32mSampling  13%|██████                                    |  ETA: 0:03:32\u001b[39m\n",
      "\u001b[32mSampling  14%|██████                                    |  ETA: 0:03:30\u001b[39m\n",
      "\u001b[32mSampling  14%|██████                                    |  ETA: 0:03:29\u001b[39m\n",
      "\u001b[32mSampling  14%|███████                                   |  ETA: 0:03:27\u001b[39m\n",
      "\u001b[32mSampling  15%|███████                                   |  ETA: 0:03:25\u001b[39m\n",
      "\u001b[32mSampling  16%|███████                                   |  ETA: 0:03:23\u001b[39m\n",
      "\u001b[32mSampling  16%|███████                                   |  ETA: 0:03:21\u001b[39m\n",
      "\u001b[32mSampling  16%|███████                                   |  ETA: 0:03:19\u001b[39m\n",
      "\u001b[32mSampling  17%|████████                                  |  ETA: 0:03:18\u001b[39m\n",
      "\u001b[32mSampling  18%|████████                                  |  ETA: 0:03:16\u001b[39m\n",
      "\u001b[32mSampling  18%|████████                                  |  ETA: 0:03:15\u001b[39m\n",
      "\u001b[32mSampling  18%|████████                                  |  ETA: 0:03:13\u001b[39m\n",
      "\u001b[32mSampling  19%|████████                                  |  ETA: 0:03:11\u001b[39m\n",
      "\u001b[32mSampling  20%|█████████                                 |  ETA: 0:03:10\u001b[39m\n",
      "\u001b[32mSampling  20%|█████████                                 |  ETA: 0:03:08\u001b[39m\n",
      "\u001b[32mSampling  20%|█████████                                 |  ETA: 0:03:07\u001b[39m\n",
      "\u001b[32mSampling  21%|█████████                                 |  ETA: 0:03:05\u001b[39m\n",
      "\u001b[32mSampling  22%|██████████                                |  ETA: 0:03:04\u001b[39m\n",
      "\u001b[32mSampling  22%|██████████                                |  ETA: 0:03:02\u001b[39m\n",
      "\u001b[32mSampling  22%|██████████                                |  ETA: 0:03:01\u001b[39m\n",
      "\u001b[32mSampling  23%|██████████                                |  ETA: 0:03:00\u001b[39m\n",
      "\u001b[32mSampling  24%|██████████                                |  ETA: 0:02:58\u001b[39m\n",
      "\u001b[32mSampling  24%|███████████                               |  ETA: 0:02:57\u001b[39m\n",
      "\u001b[32mSampling  24%|███████████                               |  ETA: 0:02:55\u001b[39m\n",
      "\u001b[32mSampling  25%|███████████                               |  ETA: 0:02:54\u001b[39m\n",
      "\u001b[32mSampling  26%|███████████                               |  ETA: 0:02:53\u001b[39m\n",
      "\u001b[32mSampling  26%|███████████                               |  ETA: 0:02:52\u001b[39m\n",
      "\u001b[32mSampling  26%|████████████                              |  ETA: 0:02:50\u001b[39m\n",
      "\u001b[32mSampling  27%|████████████                              |  ETA: 0:02:49\u001b[39m\n",
      "\u001b[32mSampling  28%|████████████                              |  ETA: 0:02:48\u001b[39m\n",
      "\u001b[32mSampling  28%|████████████                              |  ETA: 0:02:46\u001b[39m\n",
      "\u001b[32mSampling  28%|████████████                              |  ETA: 0:02:45\u001b[39m\n",
      "\u001b[32mSampling  29%|█████████████                             |  ETA: 0:02:43\u001b[39m\n",
      "\u001b[32mSampling  30%|█████████████                             |  ETA: 0:02:42\u001b[39m\n",
      "\u001b[32mSampling  30%|█████████████                             |  ETA: 0:02:41\u001b[39m\n",
      "\u001b[32mSampling  30%|█████████████                             |  ETA: 0:02:40\u001b[39m\n",
      "\u001b[32mSampling  31%|██████████████                            |  ETA: 0:02:38\u001b[39m\n",
      "\u001b[32mSampling  32%|██████████████                            |  ETA: 0:02:37\u001b[39m\n",
      "\u001b[32mSampling  32%|██████████████                            |  ETA: 0:02:36\u001b[39m\n",
      "\u001b[32mSampling  32%|██████████████                            |  ETA: 0:02:35\u001b[39m\n",
      "\u001b[32mSampling  33%|██████████████                            |  ETA: 0:02:34\u001b[39m\n",
      "\u001b[32mSampling  34%|███████████████                           |  ETA: 0:02:33\u001b[39m\n",
      "\u001b[32mSampling  34%|███████████████                           |  ETA: 0:02:32\u001b[39m\n",
      "\u001b[32mSampling  34%|███████████████                           |  ETA: 0:02:31\u001b[39m\n",
      "\u001b[32mSampling  35%|███████████████                           |  ETA: 0:02:30\u001b[39m\n",
      "\u001b[32mSampling  36%|███████████████                           |  ETA: 0:02:29\u001b[39m\n",
      "\u001b[32mSampling  36%|████████████████                          |  ETA: 0:02:27\u001b[39m\n",
      "\u001b[32mSampling  36%|████████████████                          |  ETA: 0:02:26\u001b[39m\n",
      "\u001b[32mSampling  37%|████████████████                          |  ETA: 0:02:25\u001b[39m\n",
      "\u001b[32mSampling  38%|████████████████                          |  ETA: 0:02:24\u001b[39m\n",
      "\u001b[32mSampling  38%|████████████████                          |  ETA: 0:02:23\u001b[39m\n",
      "\u001b[32mSampling  38%|█████████████████                         |  ETA: 0:02:21\u001b[39m\n",
      "\u001b[32mSampling  39%|█████████████████                         |  ETA: 0:02:20\u001b[39m\n",
      "\u001b[32mSampling  40%|█████████████████                         |  ETA: 0:02:19\u001b[39m\n",
      "\u001b[32mSampling  40%|█████████████████                         |  ETA: 0:02:18\u001b[39m\n",
      "\u001b[32mSampling  40%|██████████████████                        |  ETA: 0:02:17\u001b[39m\n",
      "\u001b[32mSampling  41%|██████████████████                        |  ETA: 0:02:16\u001b[39m\n",
      "\u001b[32mSampling  42%|██████████████████                        |  ETA: 0:02:15\u001b[39m\n",
      "\u001b[32mSampling  42%|██████████████████                        |  ETA: 0:02:14\u001b[39m\n",
      "\u001b[32mSampling  42%|██████████████████                        |  ETA: 0:02:12\u001b[39m\n",
      "\u001b[32mSampling  43%|███████████████████                       |  ETA: 0:02:11\u001b[39m\n",
      "\u001b[32mSampling  44%|███████████████████                       |  ETA: 0:02:10\u001b[39m\n",
      "\u001b[32mSampling  44%|███████████████████                       |  ETA: 0:02:09\u001b[39m\n",
      "\u001b[32mSampling  44%|███████████████████                       |  ETA: 0:02:07\u001b[39m\n",
      "\u001b[32mSampling  45%|███████████████████                       |  ETA: 0:02:06\u001b[39m\n",
      "\u001b[32mSampling  46%|████████████████████                      |  ETA: 0:02:05\u001b[39m\n",
      "\u001b[32mSampling  46%|████████████████████                      |  ETA: 0:02:04\u001b[39m\n",
      "\u001b[32mSampling  46%|████████████████████                      |  ETA: 0:02:03\u001b[39m\n",
      "\u001b[32mSampling  47%|████████████████████                      |  ETA: 0:02:01\u001b[39m\n",
      "\u001b[32mSampling  48%|████████████████████                      |  ETA: 0:02:00\u001b[39m\n",
      "\u001b[32mSampling  48%|█████████████████████                     |  ETA: 0:01:59\u001b[39m\n",
      "\u001b[32mSampling  48%|█████████████████████                     |  ETA: 0:01:58\u001b[39m\n",
      "\u001b[32mSampling  49%|█████████████████████                     |  ETA: 0:01:56\u001b[39m\n",
      "\u001b[32mSampling  50%|█████████████████████                     |  ETA: 0:01:55\u001b[39m\n",
      "\u001b[32mSampling  50%|██████████████████████                    |  ETA: 0:01:54\u001b[39m\n",
      "\u001b[32mSampling  50%|██████████████████████                    |  ETA: 0:01:53\u001b[39m\n",
      "\u001b[32mSampling  51%|██████████████████████                    |  ETA: 0:01:52\u001b[39m\n",
      "\u001b[32mSampling  52%|██████████████████████                    |  ETA: 0:01:50\u001b[39m\n",
      "\u001b[32mSampling  52%|██████████████████████                    |  ETA: 0:01:49\u001b[39m\n",
      "\u001b[32mSampling  52%|███████████████████████                   |  ETA: 0:01:48\u001b[39m\n",
      "\u001b[32mSampling  53%|███████████████████████                   |  ETA: 0:01:47\u001b[39m\n",
      "\u001b[32mSampling  54%|███████████████████████                   |  ETA: 0:01:46\u001b[39m\n",
      "\u001b[32mSampling  54%|███████████████████████                   |  ETA: 0:01:45\u001b[39m\n",
      "\u001b[32mSampling  55%|███████████████████████                   |  ETA: 0:01:43\u001b[39m\n",
      "\u001b[32mSampling  55%|████████████████████████                  |  ETA: 0:01:42\u001b[39m\n",
      "\u001b[32mSampling  56%|████████████████████████                  |  ETA: 0:01:41\u001b[39m\n",
      "\u001b[32mSampling  56%|████████████████████████                  |  ETA: 0:01:40\u001b[39m\n",
      "\u001b[32mSampling  56%|████████████████████████                  |  ETA: 0:01:39\u001b[39m\n",
      "\u001b[32mSampling  57%|████████████████████████                  |  ETA: 0:01:37\u001b[39m\n",
      "\u001b[32mSampling  57%|█████████████████████████                 |  ETA: 0:01:36\u001b[39m\n",
      "\u001b[32mSampling  58%|█████████████████████████                 |  ETA: 0:01:35\u001b[39m\n",
      "\u001b[32mSampling  58%|█████████████████████████                 |  ETA: 0:01:34\u001b[39m\n",
      "\u001b[32mSampling  59%|█████████████████████████                 |  ETA: 0:01:33\u001b[39m\n",
      "\u001b[32mSampling  60%|█████████████████████████                 |  ETA: 0:01:32\u001b[39m\n",
      "\u001b[32mSampling  60%|██████████████████████████                |  ETA: 0:01:31\u001b[39m\n",
      "\u001b[32mSampling  60%|██████████████████████████                |  ETA: 0:01:30\u001b[39m\n",
      "\u001b[32mSampling  61%|██████████████████████████                |  ETA: 0:01:28\u001b[39m\n",
      "\u001b[32mSampling  62%|██████████████████████████                |  ETA: 0:01:27\u001b[39m\n",
      "\u001b[32mSampling  62%|███████████████████████████               |  ETA: 0:01:26\u001b[39m\n",
      "\u001b[32mSampling  62%|███████████████████████████               |  ETA: 0:01:25\u001b[39m\n",
      "\u001b[32mSampling  63%|███████████████████████████               |  ETA: 0:01:24\u001b[39m\n",
      "\u001b[32mSampling  64%|███████████████████████████               |  ETA: 0:01:22\u001b[39m\n",
      "\u001b[32mSampling  64%|███████████████████████████               |  ETA: 0:01:21\u001b[39m\n",
      "\u001b[32mSampling  64%|████████████████████████████              |  ETA: 0:01:20\u001b[39m\n",
      "\u001b[32mSampling  65%|████████████████████████████              |  ETA: 0:01:19\u001b[39m\n",
      "\u001b[32mSampling  66%|████████████████████████████              |  ETA: 0:01:18\u001b[39m\n",
      "\u001b[32mSampling  66%|████████████████████████████              |  ETA: 0:01:17\u001b[39m\n",
      "\u001b[32mSampling  66%|████████████████████████████              |  ETA: 0:01:16\u001b[39m\n",
      "\u001b[32mSampling  67%|█████████████████████████████             |  ETA: 0:01:15\u001b[39m\n",
      "\u001b[32mSampling  68%|█████████████████████████████             |  ETA: 0:01:14\u001b[39m\n",
      "\u001b[32mSampling  68%|█████████████████████████████             |  ETA: 0:01:13\u001b[39m\n",
      "\u001b[32mSampling  68%|█████████████████████████████             |  ETA: 0:01:12\u001b[39m\n",
      "\u001b[32mSampling  69%|█████████████████████████████             |  ETA: 0:01:11\u001b[39m\n",
      "\u001b[32mSampling  70%|██████████████████████████████            |  ETA: 0:01:11\u001b[39m\n",
      "\u001b[32mSampling  70%|██████████████████████████████            |  ETA: 0:01:10\u001b[39m\n",
      "\u001b[32mSampling  70%|██████████████████████████████            |  ETA: 0:01:10\u001b[39m\n",
      "\u001b[32mSampling  71%|██████████████████████████████            |  ETA: 0:01:09\u001b[39m\n",
      "\u001b[32mSampling  72%|███████████████████████████████           |  ETA: 0:01:08\u001b[39m\n",
      "\u001b[32mSampling  72%|███████████████████████████████           |  ETA: 0:01:07\u001b[39m\n",
      "\u001b[32mSampling  72%|███████████████████████████████           |  ETA: 0:01:06\u001b[39m\n",
      "\u001b[32mSampling  73%|███████████████████████████████           |  ETA: 0:01:04\u001b[39m\n",
      "\u001b[32mSampling  74%|███████████████████████████████           |  ETA: 0:01:03\u001b[39m\n",
      "\u001b[32mSampling  74%|████████████████████████████████          |  ETA: 0:01:02\u001b[39m\n",
      "\u001b[32mSampling  74%|████████████████████████████████          |  ETA: 0:01:01\u001b[39m\n",
      "\u001b[32mSampling  75%|████████████████████████████████          |  ETA: 0:00:59\u001b[39m\n",
      "\u001b[32mSampling  76%|████████████████████████████████          |  ETA: 0:00:58\u001b[39m\n",
      "\u001b[32mSampling  76%|████████████████████████████████          |  ETA: 0:00:57\u001b[39m\n",
      "\u001b[32mSampling  76%|█████████████████████████████████         |  ETA: 0:00:56\u001b[39m\n",
      "\u001b[32mSampling  77%|█████████████████████████████████         |  ETA: 0:00:55\u001b[39m\n",
      "\u001b[32mSampling  78%|█████████████████████████████████         |  ETA: 0:00:53\u001b[39m\n",
      "\u001b[32mSampling  78%|█████████████████████████████████         |  ETA: 0:00:52\u001b[39m\n",
      "\u001b[32mSampling  78%|█████████████████████████████████         |  ETA: 0:00:51\u001b[39m\n",
      "\u001b[32mSampling  79%|██████████████████████████████████        |  ETA: 0:00:50\u001b[39m\n",
      "\u001b[32mSampling  80%|██████████████████████████████████        |  ETA: 0:00:49\u001b[39m\n",
      "\u001b[32mSampling  80%|██████████████████████████████████        |  ETA: 0:00:47\u001b[39m\n",
      "\u001b[32mSampling  80%|██████████████████████████████████        |  ETA: 0:00:46\u001b[39m\n",
      "\u001b[32mSampling  81%|███████████████████████████████████       |  ETA: 0:00:45\u001b[39m\n",
      "\u001b[32mSampling  82%|███████████████████████████████████       |  ETA: 0:00:44\u001b[39m\n",
      "\u001b[32mSampling  82%|███████████████████████████████████       |  ETA: 0:00:43\u001b[39m\n",
      "\u001b[32mSampling  82%|███████████████████████████████████       |  ETA: 0:00:41\u001b[39m\n",
      "\u001b[32mSampling  83%|███████████████████████████████████       |  ETA: 0:00:40\u001b[39m\n",
      "\u001b[32mSampling  84%|████████████████████████████████████      |  ETA: 0:00:39\u001b[39m\n",
      "\u001b[32mSampling  84%|████████████████████████████████████      |  ETA: 0:00:38\u001b[39m\n",
      "\u001b[32mSampling  84%|████████████████████████████████████      |  ETA: 0:00:37\u001b[39m\n",
      "\u001b[32mSampling  85%|████████████████████████████████████      |  ETA: 0:00:35\u001b[39m\n",
      "\u001b[32mSampling  86%|████████████████████████████████████      |  ETA: 0:00:34\u001b[39m\n",
      "\u001b[32mSampling  86%|█████████████████████████████████████     |  ETA: 0:00:33\u001b[39m\n",
      "\u001b[32mSampling  86%|█████████████████████████████████████     |  ETA: 0:00:32\u001b[39m\n",
      "\u001b[32mSampling  87%|█████████████████████████████████████     |  ETA: 0:00:31\u001b[39m\n",
      "\u001b[32mSampling  88%|█████████████████████████████████████     |  ETA: 0:00:29\u001b[39m\n",
      "\u001b[32mSampling  88%|█████████████████████████████████████     |  ETA: 0:00:28\u001b[39m\n",
      "\u001b[32mSampling  88%|██████████████████████████████████████    |  ETA: 0:00:27\u001b[39m\n",
      "\u001b[32mSampling  89%|██████████████████████████████████████    |  ETA: 0:00:26\u001b[39m\n",
      "\u001b[32mSampling  90%|██████████████████████████████████████    |  ETA: 0:00:25\u001b[39m\n",
      "\u001b[32mSampling  90%|██████████████████████████████████████    |  ETA: 0:00:23\u001b[39m\n",
      "\u001b[32mSampling  90%|███████████████████████████████████████   |  ETA: 0:00:22\u001b[39m\n",
      "\u001b[32mSampling  91%|███████████████████████████████████████   |  ETA: 0:00:21\u001b[39m\n",
      "\u001b[32mSampling  92%|███████████████████████████████████████   |  ETA: 0:00:20\u001b[39m\n",
      "\u001b[32mSampling  92%|███████████████████████████████████████   |  ETA: 0:00:19\u001b[39m\n",
      "\u001b[32mSampling  92%|███████████████████████████████████████   |  ETA: 0:00:18\u001b[39m\n",
      "\u001b[32mSampling  93%|████████████████████████████████████████  |  ETA: 0:00:16\u001b[39m\n",
      "\u001b[32mSampling  94%|████████████████████████████████████████  |  ETA: 0:00:15\u001b[39m\n",
      "\u001b[32mSampling  94%|████████████████████████████████████████  |  ETA: 0:00:14\u001b[39m\n",
      "\u001b[32mSampling  94%|████████████████████████████████████████  |  ETA: 0:00:13\u001b[39m\n",
      "\u001b[32mSampling  95%|████████████████████████████████████████  |  ETA: 0:00:12\u001b[39m\n",
      "\u001b[32mSampling  96%|█████████████████████████████████████████ |  ETA: 0:00:11\u001b[39m\n",
      "\u001b[32mSampling  96%|█████████████████████████████████████████ |  ETA: 0:00:10\u001b[39m\n",
      "\u001b[32mSampling  96%|█████████████████████████████████████████ |  ETA: 0:00:08\u001b[39m\n",
      "\u001b[32mSampling  97%|█████████████████████████████████████████ |  ETA: 0:00:07\u001b[39m\n",
      "\u001b[32mSampling  98%|█████████████████████████████████████████ |  ETA: 0:00:06\u001b[39m\n",
      "\u001b[32mSampling  98%|██████████████████████████████████████████|  ETA: 0:00:05\u001b[39m\n",
      "\u001b[32mSampling  98%|██████████████████████████████████████████|  ETA: 0:00:04\u001b[39m\n",
      "\u001b[32mSampling  99%|██████████████████████████████████████████|  ETA: 0:00:03\u001b[39m\n",
      "\u001b[32mSampling 100%|██████████████████████████████████████████|  ETA: 0:00:01\u001b[39m\n",
      "\u001b[32mSampling 100%|██████████████████████████████████████████| Time: 0:04:13\u001b[39m\n",
      "\u001b[90mSampling 100%|██████████████████████████████████████████| Time: 0:04:16\u001b[39m\n"
     ]
    },
    {
     "data": {
      "text/plain": [
       "Chains MCMC chain (10000×19×1 Array{Float64, 3}):\n",
       "\n",
       "Iterations        = 1001:1:11000\n",
       "Number of chains  = 1\n",
       "Samples per chain = 10000\n",
       "Wall duration     = 253.88 seconds\n",
       "Compute duration  = 253.88 seconds\n",
       "parameters        = b0, b[1], b[2], b[3], b[4]\n",
       "internals         = n_steps, is_accept, acceptance_rate, log_density, hamiltonian_energy, hamiltonian_energy_error, max_hamiltonian_energy_error, tree_depth, numerical_error, step_size, nom_step_size, lp, logprior, loglikelihood\n",
       "\n",
       "Use `describe(chains)` for summary statistics and quantiles.\n"
      ]
     },
     "metadata": {},
     "output_type": "display_data"
    }
   ],
   "source": [
    "import LinearAlgebra: dot\n",
    "\n",
    "@model function prob_regression(X, y)\n",
    "    b0 ~ Normal(0, 5)\n",
    "    b ~ filldist(Normal(0, 4), 4)\n",
    "\n",
    "    ϕ = logistic.(b0 .+ dot.(b[1], X.Age) .+ dot.(b[2], X.OMElow) .+ dot.(b[3], X.Loud) .+ dot.(b[4], X.NoiseCoherent))\n",
    "\n",
    "    for i in eachindex(y)\n",
    "        y[i] ~ Binomial(X[i, :Trials], ϕ[i])\n",
    "    end\n",
    "end\n",
    "\n",
    "t_model = prob_regression(dat[!, Not(:Prob, :Correct)], dat.Correct)\n",
    "\n",
    "chains = sample(t_model, NUTS(), 10000)"
   ]
  },
  {
   "cell_type": "code",
   "execution_count": 67,
   "id": "ea8d5d98",
   "metadata": {},
   "outputs": [
    {
     "data": {
      "text/plain": [
       "2-dimensional AxisArray{Float64,2,...} with axes:\n",
       "    :iter, 1:1:1\n",
       "    :var, [:b0, Symbol(\"b[1]\"), Symbol(\"b[2]\"), Symbol(\"b[3]\"), Symbol(\"b[4]\")]\n",
       "And data, a 1×5 Matrix{Float64}:\n",
       " -5.69659  0.0187976  -0.239733  0.171412  -1.57683"
      ]
     },
     "metadata": {},
     "output_type": "display_data"
    }
   ],
   "source": [
    "coefficients = mean(chains.value[iter=:, var=[:b0, Symbol(\"b[1]\"), Symbol(\"b[2]\"), Symbol(\"b[3]\"), Symbol(\"b[4]\")], chain=1], dims=1)"
   ]
  },
  {
   "cell_type": "code",
   "execution_count": 48,
   "id": "e51721fc",
   "metadata": {},
   "outputs": [
    {
     "data": {
      "text/plain": [
       "1-element Vector{ChainDataFrame{@NamedTuple{parameters::Vector{Symbol}, thinning::Vector{Int64}, burnin::Vector{Float64}, total::Vector{Float64}, nmin::Vector{Int64}, dependencefactor::Vector{Float64}}}}:\n",
       " Raftery and Lewis diagnostic - Chain 1 (5 x 6)"
      ]
     },
     "metadata": {},
     "output_type": "display_data"
    }
   ],
   "source": [
    "import MCMCDiagnosticTools: rafterydiag\n",
    "\n",
    "rl_diagnostic = rafterydiag(chains)\n",
    "rl_diagnostic"
   ]
  },
  {
   "cell_type": "code",
   "execution_count": 60,
   "id": "8ae07223",
   "metadata": {},
   "outputs": [
    {
     "data": {
      "text/plain": [
       "0.0268"
      ]
     },
     "metadata": {},
     "output_type": "display_data"
    }
   ],
   "source": [
    "mean(chains.value[iter=:, var=Symbol(\"b[2]\"), chain=1] .> 0)"
   ]
  },
  {
   "cell_type": "code",
   "execution_count": 55,
   "id": "fd8814a4",
   "metadata": {},
   "outputs": [
    {
     "name": "stdout",
     "output_type": "stream",
     "text": [
      "R-hat values:\n",
      "\n"
     ]
    },
    {
     "data": {
      "text/plain": [
       "R-hat\n",
       " \u001b[1m parameters \u001b[0m \u001b[1m    rhat \u001b[0m\n",
       " \u001b[90m     Symbol \u001b[0m \u001b[90m Float64 \u001b[0m\n",
       "\n",
       "          b0    1.0002\n",
       "        b[1]    1.0001\n",
       "        b[2]    1.0002\n",
       "        b[3]    1.0005\n",
       "        b[4]    1.0000\n"
      ]
     },
     "metadata": {},
     "output_type": "display_data"
    }
   ],
   "source": [
    "rhat_values = rhat(chains)\n",
    "println(\"R-hat values:\")\n",
    "rhat_values"
   ]
  },
  {
   "cell_type": "code",
   "execution_count": 37,
   "id": "0eb6ec1e",
   "metadata": {},
   "outputs": [
    {
     "data": {
      "text/html": [
       "<div><div style = \"float: left;\"><span>712×4 DataFrame</span></div><div style = \"float: right;\"><span style = \"font-style: italic;\">687 rows omitted</span></div><div style = \"clear: both;\"></div></div><div class = \"data-frame\" style = \"overflow-x: scroll;\"><table class = \"data-frame\" style = \"margin-bottom: 6px;\"><thead><tr class = \"header\"><th class = \"rowNumber\" style = \"font-weight: bold; text-align: right;\">Row</th><th style = \"text-align: left;\">Age</th><th style = \"text-align: left;\">OMElow</th><th style = \"text-align: left;\">Loud</th><th style = \"text-align: left;\">NoiseCoherent</th></tr><tr class = \"subheader headerLastRow\"><th class = \"rowNumber\" style = \"font-weight: bold; text-align: right;\"></th><th title = \"Int64\" style = \"text-align: left;\">Int64</th><th title = \"Int64\" style = \"text-align: left;\">Int64</th><th title = \"Int64\" style = \"text-align: left;\">Int64</th><th title = \"Int64\" style = \"text-align: left;\">Int64</th></tr></thead><tbody><tr><td class = \"rowNumber\" style = \"font-weight: bold; text-align: right;\">1</td><td style = \"text-align: right;\">30</td><td style = \"text-align: right;\">2</td><td style = \"text-align: right;\">105</td><td style = \"text-align: right;\">4</td></tr><tr><td class = \"rowNumber\" style = \"font-weight: bold; text-align: right;\">2</td><td style = \"text-align: right;\">30</td><td style = \"text-align: right;\">2</td><td style = \"text-align: right;\">105</td><td style = \"text-align: right;\">0</td></tr><tr><td class = \"rowNumber\" style = \"font-weight: bold; text-align: right;\">3</td><td style = \"text-align: right;\">30</td><td style = \"text-align: right;\">2</td><td style = \"text-align: right;\">120</td><td style = \"text-align: right;\">4</td></tr><tr><td class = \"rowNumber\" style = \"font-weight: bold; text-align: right;\">4</td><td style = \"text-align: right;\">30</td><td style = \"text-align: right;\">2</td><td style = \"text-align: right;\">120</td><td style = \"text-align: right;\">0</td></tr><tr><td class = \"rowNumber\" style = \"font-weight: bold; text-align: right;\">5</td><td style = \"text-align: right;\">30</td><td style = \"text-align: right;\">2</td><td style = \"text-align: right;\">135</td><td style = \"text-align: right;\">4</td></tr><tr><td class = \"rowNumber\" style = \"font-weight: bold; text-align: right;\">6</td><td style = \"text-align: right;\">30</td><td style = \"text-align: right;\">2</td><td style = \"text-align: right;\">135</td><td style = \"text-align: right;\">0</td></tr><tr><td class = \"rowNumber\" style = \"font-weight: bold; text-align: right;\">7</td><td style = \"text-align: right;\">30</td><td style = \"text-align: right;\">2</td><td style = \"text-align: right;\">150</td><td style = \"text-align: right;\">4</td></tr><tr><td class = \"rowNumber\" style = \"font-weight: bold; text-align: right;\">8</td><td style = \"text-align: right;\">30</td><td style = \"text-align: right;\">2</td><td style = \"text-align: right;\">150</td><td style = \"text-align: right;\">0</td></tr><tr><td class = \"rowNumber\" style = \"font-weight: bold; text-align: right;\">9</td><td style = \"text-align: right;\">30</td><td style = \"text-align: right;\">2</td><td style = \"text-align: right;\">165</td><td style = \"text-align: right;\">4</td></tr><tr><td class = \"rowNumber\" style = \"font-weight: bold; text-align: right;\">10</td><td style = \"text-align: right;\">30</td><td style = \"text-align: right;\">2</td><td style = \"text-align: right;\">165</td><td style = \"text-align: right;\">0</td></tr><tr><td class = \"rowNumber\" style = \"font-weight: bold; text-align: right;\">11</td><td style = \"text-align: right;\">60</td><td style = \"text-align: right;\">2</td><td style = \"text-align: right;\">105</td><td style = \"text-align: right;\">4</td></tr><tr><td class = \"rowNumber\" style = \"font-weight: bold; text-align: right;\">12</td><td style = \"text-align: right;\">60</td><td style = \"text-align: right;\">2</td><td style = \"text-align: right;\">105</td><td style = \"text-align: right;\">0</td></tr><tr><td class = \"rowNumber\" style = \"font-weight: bold; text-align: right;\">13</td><td style = \"text-align: right;\">60</td><td style = \"text-align: right;\">2</td><td style = \"text-align: right;\">120</td><td style = \"text-align: right;\">4</td></tr><tr><td style = \"text-align: right;\">&vellip;</td><td style = \"text-align: right;\">&vellip;</td><td style = \"text-align: right;\">&vellip;</td><td style = \"text-align: right;\">&vellip;</td><td style = \"text-align: right;\">&vellip;</td></tr><tr><td class = \"rowNumber\" style = \"font-weight: bold; text-align: right;\">701</td><td style = \"text-align: right;\">30</td><td style = \"text-align: right;\">0</td><td style = \"text-align: right;\">165</td><td style = \"text-align: right;\">4</td></tr><tr><td class = \"rowNumber\" style = \"font-weight: bold; text-align: right;\">702</td><td style = \"text-align: right;\">30</td><td style = \"text-align: right;\">0</td><td style = \"text-align: right;\">165</td><td style = \"text-align: right;\">0</td></tr><tr><td class = \"rowNumber\" style = \"font-weight: bold; text-align: right;\">703</td><td style = \"text-align: right;\">30</td><td style = \"text-align: right;\">2</td><td style = \"text-align: right;\">105</td><td style = \"text-align: right;\">4</td></tr><tr><td class = \"rowNumber\" style = \"font-weight: bold; text-align: right;\">704</td><td style = \"text-align: right;\">30</td><td style = \"text-align: right;\">2</td><td style = \"text-align: right;\">105</td><td style = \"text-align: right;\">0</td></tr><tr><td class = \"rowNumber\" style = \"font-weight: bold; text-align: right;\">705</td><td style = \"text-align: right;\">30</td><td style = \"text-align: right;\">2</td><td style = \"text-align: right;\">120</td><td style = \"text-align: right;\">4</td></tr><tr><td class = \"rowNumber\" style = \"font-weight: bold; text-align: right;\">706</td><td style = \"text-align: right;\">30</td><td style = \"text-align: right;\">2</td><td style = \"text-align: right;\">120</td><td style = \"text-align: right;\">0</td></tr><tr><td class = \"rowNumber\" style = \"font-weight: bold; text-align: right;\">707</td><td style = \"text-align: right;\">30</td><td style = \"text-align: right;\">2</td><td style = \"text-align: right;\">135</td><td style = \"text-align: right;\">4</td></tr><tr><td class = \"rowNumber\" style = \"font-weight: bold; text-align: right;\">708</td><td style = \"text-align: right;\">30</td><td style = \"text-align: right;\">2</td><td style = \"text-align: right;\">135</td><td style = \"text-align: right;\">0</td></tr><tr><td class = \"rowNumber\" style = \"font-weight: bold; text-align: right;\">709</td><td style = \"text-align: right;\">30</td><td style = \"text-align: right;\">2</td><td style = \"text-align: right;\">150</td><td style = \"text-align: right;\">4</td></tr><tr><td class = \"rowNumber\" style = \"font-weight: bold; text-align: right;\">710</td><td style = \"text-align: right;\">30</td><td style = \"text-align: right;\">2</td><td style = \"text-align: right;\">150</td><td style = \"text-align: right;\">0</td></tr><tr><td class = \"rowNumber\" style = \"font-weight: bold; text-align: right;\">711</td><td style = \"text-align: right;\">30</td><td style = \"text-align: right;\">2</td><td style = \"text-align: right;\">165</td><td style = \"text-align: right;\">4</td></tr><tr><td class = \"rowNumber\" style = \"font-weight: bold; text-align: right;\">712</td><td style = \"text-align: right;\">30</td><td style = \"text-align: right;\">2</td><td style = \"text-align: right;\">165</td><td style = \"text-align: right;\">0</td></tr></tbody></table></div>"
      ],
      "text/latex": [
       "\\begin{tabular}{r|cccc}\n",
       "\t& Age & OMElow & Loud & NoiseCoherent\\\\\n",
       "\t\\hline\n",
       "\t& Int64 & Int64 & Int64 & Int64\\\\\n",
       "\t\\hline\n",
       "\t1 & 30 & 2 & 105 & 4 \\\\\n",
       "\t2 & 30 & 2 & 105 & 0 \\\\\n",
       "\t3 & 30 & 2 & 120 & 4 \\\\\n",
       "\t4 & 30 & 2 & 120 & 0 \\\\\n",
       "\t5 & 30 & 2 & 135 & 4 \\\\\n",
       "\t6 & 30 & 2 & 135 & 0 \\\\\n",
       "\t7 & 30 & 2 & 150 & 4 \\\\\n",
       "\t8 & 30 & 2 & 150 & 0 \\\\\n",
       "\t9 & 30 & 2 & 165 & 4 \\\\\n",
       "\t10 & 30 & 2 & 165 & 0 \\\\\n",
       "\t11 & 60 & 2 & 105 & 4 \\\\\n",
       "\t12 & 60 & 2 & 105 & 0 \\\\\n",
       "\t13 & 60 & 2 & 120 & 4 \\\\\n",
       "\t14 & 60 & 2 & 120 & 0 \\\\\n",
       "\t15 & 60 & 2 & 135 & 4 \\\\\n",
       "\t16 & 60 & 2 & 135 & 0 \\\\\n",
       "\t17 & 60 & 2 & 150 & 4 \\\\\n",
       "\t18 & 60 & 2 & 150 & 0 \\\\\n",
       "\t19 & 60 & 2 & 165 & 4 \\\\\n",
       "\t20 & 60 & 2 & 165 & 0 \\\\\n",
       "\t21 & 60 & 2 & 105 & 4 \\\\\n",
       "\t22 & 60 & 2 & 105 & 0 \\\\\n",
       "\t23 & 60 & 2 & 120 & 4 \\\\\n",
       "\t24 & 60 & 2 & 120 & 0 \\\\\n",
       "\t$\\dots$ & $\\dots$ & $\\dots$ & $\\dots$ & $\\dots$ \\\\\n",
       "\\end{tabular}\n"
      ],
      "text/plain": [
       "\u001b[1m712×4 DataFrame\u001b[0m\n",
       "\u001b[1m Row \u001b[0m│\u001b[1m Age   \u001b[0m\u001b[1m OMElow \u001b[0m\u001b[1m Loud  \u001b[0m\u001b[1m NoiseCoherent \u001b[0m\n",
       "     │\u001b[90m Int64 \u001b[0m\u001b[90m Int64  \u001b[0m\u001b[90m Int64 \u001b[0m\u001b[90m Int64         \u001b[0m\n",
       "─────┼─────────────────────────────────────\n",
       "   1 │    30       2    105              4\n",
       "   2 │    30       2    105              0\n",
       "   3 │    30       2    120              4\n",
       "   4 │    30       2    120              0\n",
       "   5 │    30       2    135              4\n",
       "   6 │    30       2    135              0\n",
       "   7 │    30       2    150              4\n",
       "   8 │    30       2    150              0\n",
       "  ⋮  │   ⋮      ⋮       ⋮          ⋮\n",
       " 706 │    30       2    120              0\n",
       " 707 │    30       2    135              4\n",
       " 708 │    30       2    135              0\n",
       " 709 │    30       2    150              4\n",
       " 710 │    30       2    150              0\n",
       " 711 │    30       2    165              4\n",
       " 712 │    30       2    165              0\n",
       "\u001b[36m                           697 rows omitted\u001b[0m"
      ]
     },
     "metadata": {},
     "output_type": "display_data"
    }
   ],
   "source": [
    "using LinearAlgebra\n",
    "t = [1 2 3 4]\n",
    "\n",
    "dot.(t, dat[!, [:Age, :OMElow, :Loud, :NoiseCoherent]])\n",
    "\n"
   ]
  },
  {
   "cell_type": "code",
   "execution_count": 75,
   "id": "5df4a0b3",
   "metadata": {},
   "outputs": [
    {
     "data": {
      "text/plain": [
       "2-dimensional AxisArray{Float64,2,...} with axes:\n",
       "    :iter, 1:1:1\n",
       "    :var, [:b0, Symbol(\"b[1]\"), Symbol(\"b[2]\"), Symbol(\"b[3]\"), Symbol(\"b[4]\")]\n",
       "And data, a 1×5 Matrix{Float64}:\n",
       " -5.69659  0.0187976  -0.239733  0.171412  -1.57683"
      ]
     },
     "metadata": {},
     "output_type": "display_data"
    }
   ],
   "source": [
    "coefficients"
   ]
  },
  {
   "cell_type": "code",
   "execution_count": 78,
   "id": "56e389a2",
   "metadata": {},
   "outputs": [
    {
     "data": {
      "text/plain": [
       "0.9187177404869951"
      ]
     },
     "metadata": {},
     "output_type": "display_data"
    }
   ],
   "source": [
    "using StatsFuns\n",
    "logistic(dot(coefficients, [1, 60, 0, 50, 1]))"
   ]
  },
  {
   "cell_type": "code",
   "execution_count": 77,
   "id": "60301b1e",
   "metadata": {},
   "outputs": [
    {
     "data": {
      "text/plain": [
       "1-element Vector{Union{Missing, Float64}}:\n",
       " 0.9185946785042409"
      ]
     },
     "metadata": {},
     "output_type": "display_data"
    }
   ],
   "source": [
    "new_data = DataFrame(Age = [60], OMElow = [0], Loud = [50], NoiseCoherent = [1])\n",
    "predict(model, new_data)"
   ]
  },
  {
   "cell_type": "code",
   "execution_count": 83,
   "id": "981f5e60",
   "metadata": {},
   "outputs": [
    {
     "data": {
      "text/plain": [
       "712-element Vector{Union{Missing, Float64}}:\n",
       " 0.27770979115031624\n",
       " 0.6503216321689883\n",
       " 0.4756587350655269\n",
       " 0.8144005624775437\n",
       " 0.6815634658272449\n",
       " 0.9119170314658122\n",
       " 0.8347088412324839\n",
       " 0.960671311669195\n",
       " 0.922569555140418\n",
       " 0.982944607822239\n",
       " ⋮\n",
       " 0.6503216321689883\n",
       " 0.4756587350655269\n",
       " 0.8144005624775437\n",
       " 0.6815634658272449\n",
       " 0.9119170314658122\n",
       " 0.8347088412324839\n",
       " 0.960671311669195\n",
       " 0.922569555140418\n",
       " 0.982944607822239"
      ]
     },
     "metadata": {},
     "output_type": "display_data"
    }
   ],
   "source": [
    "pred = predict(model, dat[!, [:Age, :OMElow, :Loud, :NoiseCoherent]])\n"
   ]
  },
  {
   "cell_type": "code",
   "execution_count": 86,
   "id": "3bf9fa19",
   "metadata": {},
   "outputs": [
    {
     "data": {
      "text/plain": [
       "600"
      ]
     },
     "metadata": {},
     "output_type": "display_data"
    }
   ],
   "source": [
    "sum((dat.Prob .> 0.7 .&& pred .> 0.7) .|| (dat.Prob .< 0.7 .&& pred .< 0.7))"
   ]
  }
 ],
 "metadata": {
  "kernelspec": {
   "display_name": "Julia 1.11.6",
   "language": "julia",
   "name": "julia-1.11"
  },
  "language_info": {
   "file_extension": ".jl",
   "mimetype": "application/julia",
   "name": "julia",
   "version": "1.11.6"
  }
 },
 "nbformat": 4,
 "nbformat_minor": 5
}

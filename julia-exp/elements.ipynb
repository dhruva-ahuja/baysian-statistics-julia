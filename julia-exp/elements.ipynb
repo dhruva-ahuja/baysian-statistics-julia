{
 "cells": [
  {
   "cell_type": "code",
   "execution_count": 3,
   "id": "af34c2e7",
   "metadata": {},
   "outputs": [],
   "source": [
    "import AxisArrays: AxisArray"
   ]
  },
  {
   "cell_type": "code",
   "execution_count": 80,
   "id": "6e513f10",
   "metadata": {},
   "outputs": [
    {
     "data": {
      "text/plain": [
       "2-dimensional AxisArray{Int64,2,...} with axes:\n",
       "    :row, [:a, :b]\n",
       "    :col, 1:4\n",
       "And data, a 2×4 reshape(::UnitRange{Int64}, 2, 4) with eltype Int64:\n",
       " 1  3  5  7\n",
       " 2  4  6  8"
      ]
     },
     "execution_count": 80,
     "metadata": {},
     "output_type": "execute_result"
    }
   ],
   "source": [
    "data = reshape(1:8, 2, 4)\n",
    "\n",
    "V = AxisArray(data; row=[:a, :b], col=1:4)"
   ]
  },
  {
   "cell_type": "code",
   "execution_count": 78,
   "id": "cacb03f7",
   "metadata": {},
   "outputs": [
    {
     "data": {
      "text/plain": [
       "(AxisArrays.Axis{:col, UnitRange{Int64}}(1:3),)"
      ]
     },
     "execution_count": 78,
     "metadata": {},
     "output_type": "execute_result"
    }
   ],
   "source": [
    "V[row=:a, col=1:3].axes"
   ]
  },
  {
   "cell_type": "code",
   "execution_count": 64,
   "id": "24a30b27",
   "metadata": {},
   "outputs": [
    {
     "data": {
      "text/plain": [
       "100-element Vector{Bool}:\n",
       " 0\n",
       " 0\n",
       " 1\n",
       " 0\n",
       " 1\n",
       " 1\n",
       " 0\n",
       " 0\n",
       " 0\n",
       " 1\n",
       " 1\n",
       " 1\n",
       " 0\n",
       " ⋮\n",
       " 1\n",
       " 0\n",
       " 1\n",
       " 0\n",
       " 1\n",
       " 1\n",
       " 1\n",
       " 0\n",
       " 0\n",
       " 1\n",
       " 0\n",
       " 1"
      ]
     },
     "execution_count": 64,
     "metadata": {},
     "output_type": "execute_result"
    }
   ],
   "source": [
    "using Distributions\n",
    "\n",
    "y = rand(Bernoulli(0.7), 100)"
   ]
  },
  {
   "cell_type": "code",
   "execution_count": 65,
   "id": "50f26eb0",
   "metadata": {},
   "outputs": [
    {
     "name": "stderr",
     "output_type": "stream",
     "text": [
      "\u001b[36m\u001b[1m┌ \u001b[22m\u001b[39m\u001b[36m\u001b[1mInfo: \u001b[22m\u001b[39mFound initial step size\n",
      "\u001b[36m\u001b[1m└ \u001b[22m\u001b[39m  ϵ = 0.8\n",
      "\u001b[32mSampling: 100%|█████████████████████████████████████████| Time: 0:00:00\u001b[39m\n"
     ]
    },
    {
     "data": {
      "text/plain": [
       "Chains MCMC chain (10000×15×1 Array{Float64, 3}):\n",
       "\n",
       "Iterations        = 1001:1:11000\n",
       "Number of chains  = 1\n",
       "Samples per chain = 10000\n",
       "Wall duration     = 0.5 seconds\n",
       "Compute duration  = 0.5 seconds\n",
       "parameters        = p\n",
       "internals         = n_steps, is_accept, acceptance_rate, log_density, hamiltonian_energy, hamiltonian_energy_error, max_hamiltonian_energy_error, tree_depth, numerical_error, step_size, nom_step_size, lp, logprior, loglikelihood\n",
       "\n",
       "Use `describe(chains)` for summary statistics and quantiles.\n"
      ]
     },
     "execution_count": 65,
     "metadata": {},
     "output_type": "execute_result"
    }
   ],
   "source": [
    "using Turing, Distributions, StatsPlots, DistributionsAD\n",
    "\n",
    "@model function coinflip(y)\n",
    "    p ~ Beta(1, 1)\n",
    "    \n",
    "    y ~ filldist(Bernoulli(p), length(y))\n",
    "end\n",
    "\n",
    "chain = sample(coinflip(y), NUTS(), 10000)"
   ]
  },
  {
   "cell_type": "code",
   "execution_count": 66,
   "id": "196ca84a",
   "metadata": {},
   "outputs": [
    {
     "name": "stdout",
     "output_type": "stream",
     "text": [
      "Chains MCMC chain (10000×15×1 Array{Float64, 3}):\n",
      "\n",
      "Iterations        = 1001:1:11000\n",
      "Number of chains  = 1\n",
      "Samples per chain = 10000\n",
      "Wall duration     = 0.5 seconds\n",
      "Compute duration  = 0.5 seconds\n",
      "parameters        = p\n",
      "internals         = n_steps, is_accept, acceptance_rate, log_density, hamiltonian_energy, hamiltonian_energy_error, max_hamiltonian_energy_error, tree_depth, numerical_error, step_size, nom_step_size, lp, logprior, loglikelihood\n",
      "\n",
      "Summary Statistics\n",
      " \u001b[1m parameters \u001b[0m \u001b[1m    mean \u001b[0m \u001b[1m     std \u001b[0m \u001b[1m    mcse \u001b[0m \u001b[1m  ess_bulk \u001b[0m \u001b[1m  ess_tail \u001b[0m \u001b[1m    rhat \u001b[0m \u001b[1m ess_per_sec \u001b[0m\n",
      " \u001b[90m     Symbol \u001b[0m \u001b[90m Float64 \u001b[0m \u001b[90m Float64 \u001b[0m \u001b[90m Float64 \u001b[0m \u001b[90m   Float64 \u001b[0m \u001b[90m   Float64 \u001b[0m \u001b[90m Float64 \u001b[0m \u001b[90m     Float64 \u001b[0m\n",
      "\n",
      "           p    0.5681    0.0484    0.0008   4192.6871   6397.3049    1.0000     8435.9902\n",
      "\n",
      "Quantiles\n",
      " \u001b[1m parameters \u001b[0m \u001b[1m    2.5% \u001b[0m \u001b[1m   25.0% \u001b[0m \u001b[1m   50.0% \u001b[0m \u001b[1m   75.0% \u001b[0m \u001b[1m   97.5% \u001b[0m\n",
      " \u001b[90m     Symbol \u001b[0m \u001b[90m Float64 \u001b[0m \u001b[90m Float64 \u001b[0m \u001b[90m Float64 \u001b[0m \u001b[90m Float64 \u001b[0m \u001b[90m Float64 \u001b[0m\n",
      "\n",
      "           p    0.4713    0.5356    0.5687    0.6022    0.6606\n"
     ]
    }
   ],
   "source": [
    "using MCMCChains\n",
    "\n",
    "describe(chain)"
   ]
  },
  {
   "cell_type": "code",
   "execution_count": 67,
   "id": "ed6ec9c4",
   "metadata": {},
   "outputs": [
    {
     "data": {
      "text/plain": [
       "(:value, :logevidence, :name_map, :info)"
      ]
     },
     "execution_count": 67,
     "metadata": {},
     "output_type": "execute_result"
    }
   ],
   "source": [
    "fieldnames(typeof(chain))"
   ]
  },
  {
   "cell_type": "code",
   "execution_count": 68,
   "id": "6dba900d",
   "metadata": {},
   "outputs": [
    {
     "data": {
      "text/plain": [
       "10000-element Vector{Float64}:\n",
       " 0.5649309605385094\n",
       " 0.5585119932070854\n",
       " 0.49674874398015706\n",
       " 0.581541235203961\n",
       " 0.6073683128806192\n",
       " 0.5904421138766905\n",
       " 0.5904421138766905\n",
       " 0.5671239025622562\n",
       " 0.5642034341743951\n",
       " 0.6413754869918873\n",
       " 0.6413754869918873\n",
       " 0.6287786602511314\n",
       " 0.571269522069502\n",
       " ⋮\n",
       " 0.6575514232174947\n",
       " 0.5807783690095322\n",
       " 0.614400677726784\n",
       " 0.6272245899040262\n",
       " 0.6155417091026344\n",
       " 0.5654477190286757\n",
       " 0.6014931429544349\n",
       " 0.5812369549870169\n",
       " 0.5432540286529595\n",
       " 0.5736121388077747\n",
       " 0.4927698080691437\n",
       " 0.455481390333534"
      ]
     },
     "execution_count": 68,
     "metadata": {},
     "output_type": "execute_result"
    }
   ],
   "source": [
    "post_p = chain.value[iter=:, var=:p, chain=1].data"
   ]
  },
  {
   "cell_type": "code",
   "execution_count": 69,
   "id": "164ebe49",
   "metadata": {},
   "outputs": [
    {
     "data": {
      "text/plain": [
       "0.5680577678045026"
      ]
     },
     "execution_count": 69,
     "metadata": {},
     "output_type": "execute_result"
    }
   ],
   "source": [
    "mean(post_p)"
   ]
  },
  {
   "cell_type": "code",
   "execution_count": 70,
   "id": "3e5589b7",
   "metadata": {},
   "outputs": [
    {
     "data": {
      "text/plain": [
       "0.57"
      ]
     },
     "execution_count": 70,
     "metadata": {},
     "output_type": "execute_result"
    }
   ],
   "source": [
    "mean(y)"
   ]
  },
  {
   "cell_type": "code",
   "execution_count": 71,
   "id": "512a6a7d",
   "metadata": {},
   "outputs": [
    {
     "name": "stderr",
     "output_type": "stream",
     "text": [
      "\u001b[36m\u001b[1m[ \u001b[22m\u001b[39m\u001b[36m\u001b[1mInfo: \u001b[22m\u001b[39mthe value of d_hat: -68.33226033074283\n"
     ]
    },
    {
     "data": {
      "text/plain": [
       "0.48391143302477246"
      ]
     },
     "execution_count": 71,
     "metadata": {},
     "output_type": "execute_result"
    }
   ],
   "source": [
    "function compute_loglikelihood(y, post_p, log_likelihood)\n",
    "    mean_post_p = mean(post_p)\n",
    "    d_hat = sum(log_likelihood.(y, mean_post_p))\n",
    "\n",
    "    @info \"the value of d_hat: $d_hat\"\n",
    "    d = 0\n",
    "    for p_ins in post_p\n",
    "        d += sum(log_likelihood.(y, p_ins))\n",
    "    end\n",
    "\n",
    "    d /= length(post_p)\n",
    "    return d_hat - d\n",
    "end\n",
    "\n",
    "\n",
    "compute_loglikelihood(y, post_p, (r, p) -> logpdf(Bernoulli(p), r))"
   ]
  },
  {
   "cell_type": "code",
   "execution_count": 72,
   "id": "9b765f62",
   "metadata": {},
   "outputs": [
    {
     "data": {
      "text/plain": [
       "Dict{Bool, Int64} with 2 entries:\n",
       "  0 => 43\n",
       "  1 => 57"
      ]
     },
     "execution_count": 72,
     "metadata": {},
     "output_type": "execute_result"
    }
   ],
   "source": [
    "using StatsBase: countmap\n",
    "\n",
    "countmap(y)"
   ]
  },
  {
   "cell_type": "code",
   "execution_count": 75,
   "id": "4f9c3ef1",
   "metadata": {},
   "outputs": [
    {
     "data": {
      "text/plain": [
       "100-element Vector{Float64}:\n",
       "  0.8273290717574224\n",
       " -0.33879503050879417\n",
       " -0.879940879907407\n",
       "  0.6158374003723452\n",
       "  2.7225721280432023\n",
       "  0.3028734719020684\n",
       " -0.8425386042649556\n",
       " -0.04255565912173277\n",
       "  1.2152194681367772\n",
       " -1.9100682947708725\n",
       " -0.07185486052385631\n",
       "  0.3375068142130112\n",
       "  1.3189591434994246\n",
       "  ⋮\n",
       "  0.022984542862224146\n",
       "  1.6065244086619512\n",
       "  0.8152320574573139\n",
       "  0.9544226050437927\n",
       "  1.5638569886516904\n",
       "  0.08962001192988943\n",
       " -0.5219167001909587\n",
       " -0.2352060253939655\n",
       " -2.5152809087872963\n",
       "  1.2579115224824917\n",
       " -0.6110089746887154\n",
       "  0.350230301970348"
      ]
     },
     "execution_count": 75,
     "metadata": {},
     "output_type": "execute_result"
    }
   ],
   "source": [
    "rand(Normal(0, 1), 100)"
   ]
  },
  {
   "cell_type": "code",
   "execution_count": 76,
   "id": "60f3faec",
   "metadata": {},
   "outputs": [
    {
     "data": {
      "text/plain": [
       "Distribution{Univariate, Continuous}"
      ]
     },
     "execution_count": 76,
     "metadata": {},
     "output_type": "execute_result"
    }
   ],
   "source": [
    "supertype(typeof(Normal(0, 1)))"
   ]
  },
  {
   "cell_type": "code",
   "execution_count": 83,
   "id": "adf331be",
   "metadata": {},
   "outputs": [
    {
     "data": {
      "text/plain": [
       "(lower = 0.46939837883871466, upper = 0.6584173019191294)"
      ]
     },
     "execution_count": 83,
     "metadata": {},
     "output_type": "execute_result"
    }
   ],
   "source": [
    "using ArviZ\n",
    "\n",
    "hdi(post_p; prob=0.95)"
   ]
  },
  {
   "cell_type": "code",
   "execution_count": null,
   "id": "90d30fa0",
   "metadata": {},
   "outputs": [],
   "source": []
  }
 ],
 "metadata": {
  "kernelspec": {
   "display_name": "Julia 1.11.6",
   "language": "julia",
   "name": "julia-1.11"
  },
  "language_info": {
   "file_extension": ".jl",
   "mimetype": "application/julia",
   "name": "julia",
   "version": "1.11.6"
  }
 },
 "nbformat": 4,
 "nbformat_minor": 5
}
